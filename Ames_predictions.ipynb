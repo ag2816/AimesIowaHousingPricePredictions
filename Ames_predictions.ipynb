{
 "cells": [
  {
   "cell_type": "markdown",
   "metadata": {},
   "source": [
    "# Ames Housing Predictions\n",
    "\n",
    "https://www.kaggle.com/c/dsi-us-5-project-2-regression-challenge/data\n",
    "\n",
    "* SalePrice - the property's sale price in dollars. This is the target variable that you're trying to predict for this challenge.\n",
    "\n",
    "\n",
    "* MSSubClass: The building class (categorical with numeric label, i.e 20= 1-STORY 1946 & NEWER ALL STYLES\n",
    "* MSZoning: Identifies the general zoning classification of the sale. categorical (i.e. A=Agriculutre, C=Commercial)\n",
    "* LotFrontage: Linear feet of street connected to property Numeric\n",
    "* LotArea: Lot size in square feet Numeric\n",
    "* Street: Type of road access to property (categorical, i.e. Grvl=Gravel, Pave=Paved)\n",
    "* Alley: Type of alley access to property\n",
    "* LotShape: General shape of property (categorical, ie. reg=Regular\n",
    "* LandContour: Flatness of the property (categorical, ie Lvl = near flat/level)\n",
    "* Utilities: Type of utilities available ((categorical, i.e. AllPub = all public utilities\n",
    "* LotConfig: Lot configuration (categorical, i.e. inside = inside lot\n",
    "* Neighborhood: Physical locations within Ames city limits (categorical,i.e. Blmgtn = Bloomington heights\n",
    "* Condition1: Proximity to main road or railroad (i.e. Norm = Normal)\n",
    "* Condition2: Proximity to main road or railroad (if a second is present)\n",
    "* BldgType: Type of dwelling categorical i.e. 1FAM  Single-family Detached\n",
    "* HouseStyle: Style of dwelling\n",
    "* OverallQual: Overall material and finish quality, Categorical numeric label from 1-10 (very poor - very excellent)\n",
    "* OverallCond: Overall condition rating  Categorical numeric label from 1-10 (very poor - very excellent)\n",
    "* YearBuilt: Original construction date\n",
    "* YearRemodAdd: Remodel date (same as construction date if no remodeling or additions)\n",
    "* RoofStyle: Type of roof (i.e. Flat = Flat)\n",
    "* RoofMatl: Roof material (i.e. ClyTile Clay or Tile\n",
    "* Exterior1st: Exterior covering on house (AsbShng Asbestos Shingles\n",
    "* Exterior2nd: Exterior covering on house (if more than one material) (AsbShng Asbestos Shingles\n",
    "* MasVnrArea: Masonry veneer area in square feet\n",
    "* ExterQual: Exterior material quality (Ex Excellent... Po Poor)\n",
    "* ExterCond: Present condition of the material on the exterior  (Ex Excellent... Po Poor)\n",
    "* Foundation: Type of foundation (BrkTil Brick & Tile\n",
    "* BsmtQual: Height of the basement  (Ex Excellent... Po Poor)\n",
    "* BsmtCond: General condition of the basement  (Ex Excellent... Po Poor)\n",
    "* BsmtExposure: Walkout or garden level basement walls (Gd Good Exposure\n",
    "* BsmtFinType1: Quality of basement finished area (GLQ Good Living Quarters\n",
    "* BsmtFinSF1: Type 1 finished square feet\n",
    "* BsmtFinType2: Quality of second finished area (if present) (GLQ Good Living Quarters\n",
    "* BsmtFinSF2: Type 2 finished square feet\n",
    "* BsmtUnfSF: Unfinished square feet of basement area\n",
    "* TotalBsmtSF: Total square feet of basement area\n",
    "* Heating: Type of heating (Floor Floor Furnace\n",
    "* HeatingQC: Heating quality and condition  (Ex Excellent... Po Poor)\n",
    "* CentralAir: Central air conditioning (N/Y\n",
    "* Electrical: Electrical system (SBrkr Standard Circuit Breakers & Romex\n",
    "* 1stFlrSF: First Floor square feet\n",
    "* 2ndFlrSF: Second floor square feet\n",
    "* LowQualFinSF: Low quality finished square feet (all floors)\n",
    "* GrLivArea: Above grade (ground) living area square feet\n",
    "* BsmtFullBath: Basement full bathrooms\n",
    "* BsmtHalfBath: Basement half bathrooms\n",
    "* FullBath: Full bathrooms above grade\n",
    "* HalfBath: Half baths above grade\n",
    "* Bedroom: Number of bedrooms above basement level\n",
    "* Kitchen: Number of kitchens\n",
    "* KitchenQual: Kitchen quality ( (Ex Excellent... Po Poor)\n",
    "* TotRmsAbvGrd: Total rooms above grade (does not include bathrooms)\n",
    "* Functional: Home functionality rating (Typ Typical Functionality\n",
    "* Fireplaces: Number of fireplaces\n",
    "* FireplaceQu: Fireplace quality  (Ex Excellent... Po Poor)\n",
    "* GarageType: Garage location (2Types More than one type of garage\n",
    "* GarageYrBlt: Year garage was built\n",
    "* GarageFinish: Interior finish of the garage (Fin Finished\n",
    "* GarageCars: Size of garage in car capacity\n",
    "* GarageArea: Size of garage in square feet\n",
    "* GarageQual: Garage quality  (Ex Excellent... Po Poor)\n",
    "* GarageCond: Garage condition  (Ex Excellent... Po Poor)\n",
    "* PavedDrive: Paved driveway (Y Paved\n",
    "* WoodDeckSF: Wood deck area in square feet\n",
    "* OpenPorchSF: Open porch area in square feet\n",
    "* EnclosedPorch: Enclosed porch area in square feet\n",
    "* 3SsnPorch: Three season porch area in square feet\n",
    "* ScreenPorch: Screen porch area in square feet\n",
    "* PoolArea: Pool area in square feet\n",
    "* PoolQC: Pool quality  (Ex Excellent... Po Poor)\n",
    "* Fence: Fence quality  (Ex Excellent... Po Poor)\n",
    "* MiscFeature: Miscellaneous feature not covered in other categories ( Elev Elevator, Gar2 2nd Garage (if not described in garage section)\n",
    "* MiscVal: Dollar Value of miscellaneous feature\n",
    "* MoSold: Month Sold\n",
    "* YrSold: Year Sold\n",
    "* SaleType: Type of sale ( WD Warranty Deed - Conventional"
   ]
  },
  {
   "cell_type": "code",
   "execution_count": 1,
   "metadata": {},
   "outputs": [],
   "source": [
    "import matplotlib.pyplot as plt\n",
    "import numpy as np\n",
    "\n",
    "from sklearn.neighbors import KNeighborsRegressor\n",
    "from sklearn.model_selection import train_test_split, cross_val_score\n",
    "\n",
    "#from sklearn.metrics import confusion_matrix\n",
    "from sklearn.metrics import roc_curve, auc\n",
    "from sklearn.metrics import recall_score , accuracy_score, precision_score\n",
    "from sklearn.metrics import mean_squared_error, mean_absolute_error\n",
    "\n",
    "from sklearn.linear_model import Lasso, Ridge, LinearRegression\n",
    "\n",
    "from sklearn.preprocessing import (\n",
    "    StandardScaler, LabelBinarizer, Imputer, FunctionTransformer,PolynomialFeatures\n",
    ")\n",
    "\n",
    "from sklearn.feature_selection import (\n",
    "    VarianceThreshold, SelectKBest, SelectPercentile, \n",
    "    SelectFromModel, f_regression, RFECV\n",
    ")\n",
    "\n",
    "from sklearn.impute import SimpleImputer\n",
    "from sklearn_pandas import DataFrameMapper, CategoricalImputer\n",
    "from sklearn.model_selection import GridSearchCV\n",
    "\n",
    "import pandas as pd\n",
    "import seaborn as sns\n",
    "import altair as alt\n",
    "alt.renderers.enable('notebook') # show and interact ith plots in jupyter notebook\n",
    "\n",
    "%matplotlib inline"
   ]
  },
  {
   "cell_type": "code",
   "execution_count": 2,
   "metadata": {},
   "outputs": [],
   "source": [
    "run_full = True\n",
    "do_logtransform_price=True\n",
    "chosen_model=\"LinearRegression\""
   ]
  },
  {
   "cell_type": "code",
   "execution_count": 3,
   "metadata": {},
   "outputs": [
    {
     "data": {
      "text/html": [
       "<div>\n",
       "<style scoped>\n",
       "    .dataframe tbody tr th:only-of-type {\n",
       "        vertical-align: middle;\n",
       "    }\n",
       "\n",
       "    .dataframe tbody tr th {\n",
       "        vertical-align: top;\n",
       "    }\n",
       "\n",
       "    .dataframe thead th {\n",
       "        text-align: right;\n",
       "    }\n",
       "</style>\n",
       "<table border=\"1\" class=\"dataframe\">\n",
       "  <thead>\n",
       "    <tr style=\"text-align: right;\">\n",
       "      <th></th>\n",
       "      <th>Id</th>\n",
       "      <th>PID</th>\n",
       "      <th>MS SubClass</th>\n",
       "      <th>MS Zoning</th>\n",
       "      <th>Lot Frontage</th>\n",
       "      <th>Lot Area</th>\n",
       "      <th>Street</th>\n",
       "      <th>Alley</th>\n",
       "      <th>Lot Shape</th>\n",
       "      <th>Land Contour</th>\n",
       "      <th>...</th>\n",
       "      <th>Screen Porch</th>\n",
       "      <th>Pool Area</th>\n",
       "      <th>Pool QC</th>\n",
       "      <th>Fence</th>\n",
       "      <th>Misc Feature</th>\n",
       "      <th>Misc Val</th>\n",
       "      <th>Mo Sold</th>\n",
       "      <th>Yr Sold</th>\n",
       "      <th>Sale Type</th>\n",
       "      <th>SalePrice</th>\n",
       "    </tr>\n",
       "  </thead>\n",
       "  <tbody>\n",
       "    <tr>\n",
       "      <th>0</th>\n",
       "      <td>109</td>\n",
       "      <td>533352170</td>\n",
       "      <td>60</td>\n",
       "      <td>RL</td>\n",
       "      <td>NaN</td>\n",
       "      <td>13517</td>\n",
       "      <td>Pave</td>\n",
       "      <td>NaN</td>\n",
       "      <td>IR1</td>\n",
       "      <td>Lvl</td>\n",
       "      <td>...</td>\n",
       "      <td>0</td>\n",
       "      <td>0</td>\n",
       "      <td>NaN</td>\n",
       "      <td>NaN</td>\n",
       "      <td>NaN</td>\n",
       "      <td>0</td>\n",
       "      <td>3</td>\n",
       "      <td>2010</td>\n",
       "      <td>WD</td>\n",
       "      <td>130500</td>\n",
       "    </tr>\n",
       "    <tr>\n",
       "      <th>1</th>\n",
       "      <td>544</td>\n",
       "      <td>531379050</td>\n",
       "      <td>60</td>\n",
       "      <td>RL</td>\n",
       "      <td>43.0</td>\n",
       "      <td>11492</td>\n",
       "      <td>Pave</td>\n",
       "      <td>NaN</td>\n",
       "      <td>IR1</td>\n",
       "      <td>Lvl</td>\n",
       "      <td>...</td>\n",
       "      <td>0</td>\n",
       "      <td>0</td>\n",
       "      <td>NaN</td>\n",
       "      <td>NaN</td>\n",
       "      <td>NaN</td>\n",
       "      <td>0</td>\n",
       "      <td>4</td>\n",
       "      <td>2009</td>\n",
       "      <td>WD</td>\n",
       "      <td>220000</td>\n",
       "    </tr>\n",
       "    <tr>\n",
       "      <th>2</th>\n",
       "      <td>153</td>\n",
       "      <td>535304180</td>\n",
       "      <td>20</td>\n",
       "      <td>RL</td>\n",
       "      <td>68.0</td>\n",
       "      <td>7922</td>\n",
       "      <td>Pave</td>\n",
       "      <td>NaN</td>\n",
       "      <td>Reg</td>\n",
       "      <td>Lvl</td>\n",
       "      <td>...</td>\n",
       "      <td>0</td>\n",
       "      <td>0</td>\n",
       "      <td>NaN</td>\n",
       "      <td>NaN</td>\n",
       "      <td>NaN</td>\n",
       "      <td>0</td>\n",
       "      <td>1</td>\n",
       "      <td>2010</td>\n",
       "      <td>WD</td>\n",
       "      <td>109000</td>\n",
       "    </tr>\n",
       "    <tr>\n",
       "      <th>3</th>\n",
       "      <td>318</td>\n",
       "      <td>916386060</td>\n",
       "      <td>60</td>\n",
       "      <td>RL</td>\n",
       "      <td>73.0</td>\n",
       "      <td>9802</td>\n",
       "      <td>Pave</td>\n",
       "      <td>NaN</td>\n",
       "      <td>Reg</td>\n",
       "      <td>Lvl</td>\n",
       "      <td>...</td>\n",
       "      <td>0</td>\n",
       "      <td>0</td>\n",
       "      <td>NaN</td>\n",
       "      <td>NaN</td>\n",
       "      <td>NaN</td>\n",
       "      <td>0</td>\n",
       "      <td>4</td>\n",
       "      <td>2010</td>\n",
       "      <td>WD</td>\n",
       "      <td>174000</td>\n",
       "    </tr>\n",
       "    <tr>\n",
       "      <th>4</th>\n",
       "      <td>255</td>\n",
       "      <td>906425045</td>\n",
       "      <td>50</td>\n",
       "      <td>RL</td>\n",
       "      <td>82.0</td>\n",
       "      <td>14235</td>\n",
       "      <td>Pave</td>\n",
       "      <td>NaN</td>\n",
       "      <td>IR1</td>\n",
       "      <td>Lvl</td>\n",
       "      <td>...</td>\n",
       "      <td>0</td>\n",
       "      <td>0</td>\n",
       "      <td>NaN</td>\n",
       "      <td>NaN</td>\n",
       "      <td>NaN</td>\n",
       "      <td>0</td>\n",
       "      <td>3</td>\n",
       "      <td>2010</td>\n",
       "      <td>WD</td>\n",
       "      <td>138500</td>\n",
       "    </tr>\n",
       "  </tbody>\n",
       "</table>\n",
       "<p>5 rows × 81 columns</p>\n",
       "</div>"
      ],
      "text/plain": [
       "    Id        PID  MS SubClass MS Zoning  Lot Frontage  Lot Area Street Alley  \\\n",
       "0  109  533352170           60        RL           NaN     13517   Pave   NaN   \n",
       "1  544  531379050           60        RL          43.0     11492   Pave   NaN   \n",
       "2  153  535304180           20        RL          68.0      7922   Pave   NaN   \n",
       "3  318  916386060           60        RL          73.0      9802   Pave   NaN   \n",
       "4  255  906425045           50        RL          82.0     14235   Pave   NaN   \n",
       "\n",
       "  Lot Shape Land Contour    ...     Screen Porch Pool Area Pool QC Fence  \\\n",
       "0       IR1          Lvl    ...                0         0     NaN   NaN   \n",
       "1       IR1          Lvl    ...                0         0     NaN   NaN   \n",
       "2       Reg          Lvl    ...                0         0     NaN   NaN   \n",
       "3       Reg          Lvl    ...                0         0     NaN   NaN   \n",
       "4       IR1          Lvl    ...                0         0     NaN   NaN   \n",
       "\n",
       "  Misc Feature Misc Val Mo Sold Yr Sold  Sale Type  SalePrice  \n",
       "0          NaN        0       3    2010        WD      130500  \n",
       "1          NaN        0       4    2009        WD      220000  \n",
       "2          NaN        0       1    2010        WD      109000  \n",
       "3          NaN        0       4    2010        WD      174000  \n",
       "4          NaN        0       3    2010        WD      138500  \n",
       "\n",
       "[5 rows x 81 columns]"
      ]
     },
     "execution_count": 3,
     "metadata": {},
     "output_type": "execute_result"
    }
   ],
   "source": [
    "df = pd.read_csv(\"train.csv\")\n",
    "df.head()"
   ]
  },
  {
   "cell_type": "markdown",
   "metadata": {},
   "source": [
    "#### Data Clean up"
   ]
  },
  {
   "cell_type": "code",
   "execution_count": 4,
   "metadata": {},
   "outputs": [
    {
     "data": {
      "text/plain": [
       "(2051, 81)"
      ]
     },
     "execution_count": 4,
     "metadata": {},
     "output_type": "execute_result"
    }
   ],
   "source": [
    "df.shape"
   ]
  },
  {
   "cell_type": "code",
   "execution_count": 5,
   "metadata": {},
   "outputs": [
    {
     "name": "stdout",
     "output_type": "stream",
     "text": [
      "<class 'pandas.core.frame.DataFrame'>\n",
      "RangeIndex: 2051 entries, 0 to 2050\n",
      "Data columns (total 81 columns):\n",
      "Id                 2051 non-null int64\n",
      "PID                2051 non-null int64\n",
      "MS SubClass        2051 non-null int64\n",
      "MS Zoning          2051 non-null object\n",
      "Lot Frontage       1721 non-null float64\n",
      "Lot Area           2051 non-null int64\n",
      "Street             2051 non-null object\n",
      "Alley              140 non-null object\n",
      "Lot Shape          2051 non-null object\n",
      "Land Contour       2051 non-null object\n",
      "Utilities          2051 non-null object\n",
      "Lot Config         2051 non-null object\n",
      "Land Slope         2051 non-null object\n",
      "Neighborhood       2051 non-null object\n",
      "Condition 1        2051 non-null object\n",
      "Condition 2        2051 non-null object\n",
      "Bldg Type          2051 non-null object\n",
      "House Style        2051 non-null object\n",
      "Overall Qual       2051 non-null int64\n",
      "Overall Cond       2051 non-null int64\n",
      "Year Built         2051 non-null int64\n",
      "Year Remod/Add     2051 non-null int64\n",
      "Roof Style         2051 non-null object\n",
      "Roof Matl          2051 non-null object\n",
      "Exterior 1st       2051 non-null object\n",
      "Exterior 2nd       2051 non-null object\n",
      "Mas Vnr Type       2029 non-null object\n",
      "Mas Vnr Area       2029 non-null float64\n",
      "Exter Qual         2051 non-null object\n",
      "Exter Cond         2051 non-null object\n",
      "Foundation         2051 non-null object\n",
      "Bsmt Qual          1996 non-null object\n",
      "Bsmt Cond          1996 non-null object\n",
      "Bsmt Exposure      1993 non-null object\n",
      "BsmtFin Type 1     1996 non-null object\n",
      "BsmtFin SF 1       2050 non-null float64\n",
      "BsmtFin Type 2     1995 non-null object\n",
      "BsmtFin SF 2       2050 non-null float64\n",
      "Bsmt Unf SF        2050 non-null float64\n",
      "Total Bsmt SF      2050 non-null float64\n",
      "Heating            2051 non-null object\n",
      "Heating QC         2051 non-null object\n",
      "Central Air        2051 non-null object\n",
      "Electrical         2051 non-null object\n",
      "1st Flr SF         2051 non-null int64\n",
      "2nd Flr SF         2051 non-null int64\n",
      "Low Qual Fin SF    2051 non-null int64\n",
      "Gr Liv Area        2051 non-null int64\n",
      "Bsmt Full Bath     2049 non-null float64\n",
      "Bsmt Half Bath     2049 non-null float64\n",
      "Full Bath          2051 non-null int64\n",
      "Half Bath          2051 non-null int64\n",
      "Bedroom AbvGr      2051 non-null int64\n",
      "Kitchen AbvGr      2051 non-null int64\n",
      "Kitchen Qual       2051 non-null object\n",
      "TotRms AbvGrd      2051 non-null int64\n",
      "Functional         2051 non-null object\n",
      "Fireplaces         2051 non-null int64\n",
      "Fireplace Qu       1051 non-null object\n",
      "Garage Type        1938 non-null object\n",
      "Garage Yr Blt      1937 non-null float64\n",
      "Garage Finish      1937 non-null object\n",
      "Garage Cars        2050 non-null float64\n",
      "Garage Area        2050 non-null float64\n",
      "Garage Qual        1937 non-null object\n",
      "Garage Cond        1937 non-null object\n",
      "Paved Drive        2051 non-null object\n",
      "Wood Deck SF       2051 non-null int64\n",
      "Open Porch SF      2051 non-null int64\n",
      "Enclosed Porch     2051 non-null int64\n",
      "3Ssn Porch         2051 non-null int64\n",
      "Screen Porch       2051 non-null int64\n",
      "Pool Area          2051 non-null int64\n",
      "Pool QC            9 non-null object\n",
      "Fence              400 non-null object\n",
      "Misc Feature       65 non-null object\n",
      "Misc Val           2051 non-null int64\n",
      "Mo Sold            2051 non-null int64\n",
      "Yr Sold            2051 non-null int64\n",
      "Sale Type          2051 non-null object\n",
      "SalePrice          2051 non-null int64\n",
      "dtypes: float64(11), int64(28), object(42)\n",
      "memory usage: 1.3+ MB\n"
     ]
    }
   ],
   "source": [
    "df.info()"
   ]
  },
  {
   "cell_type": "code",
   "execution_count": 6,
   "metadata": {},
   "outputs": [
    {
     "data": {
      "text/html": [
       "<div>\n",
       "<style scoped>\n",
       "    .dataframe tbody tr th:only-of-type {\n",
       "        vertical-align: middle;\n",
       "    }\n",
       "\n",
       "    .dataframe tbody tr th {\n",
       "        vertical-align: top;\n",
       "    }\n",
       "\n",
       "    .dataframe thead th {\n",
       "        text-align: right;\n",
       "    }\n",
       "</style>\n",
       "<table border=\"1\" class=\"dataframe\">\n",
       "  <thead>\n",
       "    <tr style=\"text-align: right;\">\n",
       "      <th></th>\n",
       "      <th>count</th>\n",
       "      <th>mean</th>\n",
       "      <th>std</th>\n",
       "      <th>min</th>\n",
       "      <th>25%</th>\n",
       "      <th>50%</th>\n",
       "      <th>75%</th>\n",
       "      <th>max</th>\n",
       "    </tr>\n",
       "  </thead>\n",
       "  <tbody>\n",
       "    <tr>\n",
       "      <th>Id</th>\n",
       "      <td>2051.0</td>\n",
       "      <td>1.474034e+03</td>\n",
       "      <td>8.439808e+02</td>\n",
       "      <td>1.0</td>\n",
       "      <td>753.5</td>\n",
       "      <td>1486.0</td>\n",
       "      <td>2.198000e+03</td>\n",
       "      <td>2930.0</td>\n",
       "    </tr>\n",
       "    <tr>\n",
       "      <th>PID</th>\n",
       "      <td>2051.0</td>\n",
       "      <td>7.135900e+08</td>\n",
       "      <td>1.886918e+08</td>\n",
       "      <td>526301100.0</td>\n",
       "      <td>528458140.0</td>\n",
       "      <td>535453200.0</td>\n",
       "      <td>9.071801e+08</td>\n",
       "      <td>924152030.0</td>\n",
       "    </tr>\n",
       "    <tr>\n",
       "      <th>MS SubClass</th>\n",
       "      <td>2051.0</td>\n",
       "      <td>5.700878e+01</td>\n",
       "      <td>4.282422e+01</td>\n",
       "      <td>20.0</td>\n",
       "      <td>20.0</td>\n",
       "      <td>50.0</td>\n",
       "      <td>7.000000e+01</td>\n",
       "      <td>190.0</td>\n",
       "    </tr>\n",
       "    <tr>\n",
       "      <th>Lot Frontage</th>\n",
       "      <td>1721.0</td>\n",
       "      <td>6.905520e+01</td>\n",
       "      <td>2.326065e+01</td>\n",
       "      <td>21.0</td>\n",
       "      <td>58.0</td>\n",
       "      <td>68.0</td>\n",
       "      <td>8.000000e+01</td>\n",
       "      <td>313.0</td>\n",
       "    </tr>\n",
       "    <tr>\n",
       "      <th>Lot Area</th>\n",
       "      <td>2051.0</td>\n",
       "      <td>1.006521e+04</td>\n",
       "      <td>6.742489e+03</td>\n",
       "      <td>1300.0</td>\n",
       "      <td>7500.0</td>\n",
       "      <td>9430.0</td>\n",
       "      <td>1.151350e+04</td>\n",
       "      <td>159000.0</td>\n",
       "    </tr>\n",
       "    <tr>\n",
       "      <th>Overall Qual</th>\n",
       "      <td>2051.0</td>\n",
       "      <td>6.112140e+00</td>\n",
       "      <td>1.426271e+00</td>\n",
       "      <td>1.0</td>\n",
       "      <td>5.0</td>\n",
       "      <td>6.0</td>\n",
       "      <td>7.000000e+00</td>\n",
       "      <td>10.0</td>\n",
       "    </tr>\n",
       "    <tr>\n",
       "      <th>Overall Cond</th>\n",
       "      <td>2051.0</td>\n",
       "      <td>5.562165e+00</td>\n",
       "      <td>1.104497e+00</td>\n",
       "      <td>1.0</td>\n",
       "      <td>5.0</td>\n",
       "      <td>5.0</td>\n",
       "      <td>6.000000e+00</td>\n",
       "      <td>9.0</td>\n",
       "    </tr>\n",
       "    <tr>\n",
       "      <th>Year Built</th>\n",
       "      <td>2051.0</td>\n",
       "      <td>1.971709e+03</td>\n",
       "      <td>3.017789e+01</td>\n",
       "      <td>1872.0</td>\n",
       "      <td>1953.5</td>\n",
       "      <td>1974.0</td>\n",
       "      <td>2.001000e+03</td>\n",
       "      <td>2010.0</td>\n",
       "    </tr>\n",
       "    <tr>\n",
       "      <th>Year Remod/Add</th>\n",
       "      <td>2051.0</td>\n",
       "      <td>1.984190e+03</td>\n",
       "      <td>2.103625e+01</td>\n",
       "      <td>1950.0</td>\n",
       "      <td>1964.5</td>\n",
       "      <td>1993.0</td>\n",
       "      <td>2.004000e+03</td>\n",
       "      <td>2010.0</td>\n",
       "    </tr>\n",
       "    <tr>\n",
       "      <th>Mas Vnr Area</th>\n",
       "      <td>2029.0</td>\n",
       "      <td>9.969591e+01</td>\n",
       "      <td>1.749631e+02</td>\n",
       "      <td>0.0</td>\n",
       "      <td>0.0</td>\n",
       "      <td>0.0</td>\n",
       "      <td>1.610000e+02</td>\n",
       "      <td>1600.0</td>\n",
       "    </tr>\n",
       "    <tr>\n",
       "      <th>BsmtFin SF 1</th>\n",
       "      <td>2050.0</td>\n",
       "      <td>4.423005e+02</td>\n",
       "      <td>4.612041e+02</td>\n",
       "      <td>0.0</td>\n",
       "      <td>0.0</td>\n",
       "      <td>368.0</td>\n",
       "      <td>7.337500e+02</td>\n",
       "      <td>5644.0</td>\n",
       "    </tr>\n",
       "    <tr>\n",
       "      <th>BsmtFin SF 2</th>\n",
       "      <td>2050.0</td>\n",
       "      <td>4.795902e+01</td>\n",
       "      <td>1.650009e+02</td>\n",
       "      <td>0.0</td>\n",
       "      <td>0.0</td>\n",
       "      <td>0.0</td>\n",
       "      <td>0.000000e+00</td>\n",
       "      <td>1474.0</td>\n",
       "    </tr>\n",
       "    <tr>\n",
       "      <th>Bsmt Unf SF</th>\n",
       "      <td>2050.0</td>\n",
       "      <td>5.677283e+02</td>\n",
       "      <td>4.449548e+02</td>\n",
       "      <td>0.0</td>\n",
       "      <td>220.0</td>\n",
       "      <td>474.5</td>\n",
       "      <td>8.110000e+02</td>\n",
       "      <td>2336.0</td>\n",
       "    </tr>\n",
       "    <tr>\n",
       "      <th>Total Bsmt SF</th>\n",
       "      <td>2050.0</td>\n",
       "      <td>1.057988e+03</td>\n",
       "      <td>4.494107e+02</td>\n",
       "      <td>0.0</td>\n",
       "      <td>793.0</td>\n",
       "      <td>994.5</td>\n",
       "      <td>1.318750e+03</td>\n",
       "      <td>6110.0</td>\n",
       "    </tr>\n",
       "    <tr>\n",
       "      <th>1st Flr SF</th>\n",
       "      <td>2051.0</td>\n",
       "      <td>1.164488e+03</td>\n",
       "      <td>3.964469e+02</td>\n",
       "      <td>334.0</td>\n",
       "      <td>879.5</td>\n",
       "      <td>1093.0</td>\n",
       "      <td>1.405000e+03</td>\n",
       "      <td>5095.0</td>\n",
       "    </tr>\n",
       "    <tr>\n",
       "      <th>2nd Flr SF</th>\n",
       "      <td>2051.0</td>\n",
       "      <td>3.293291e+02</td>\n",
       "      <td>4.256710e+02</td>\n",
       "      <td>0.0</td>\n",
       "      <td>0.0</td>\n",
       "      <td>0.0</td>\n",
       "      <td>6.925000e+02</td>\n",
       "      <td>1862.0</td>\n",
       "    </tr>\n",
       "    <tr>\n",
       "      <th>Low Qual Fin SF</th>\n",
       "      <td>2051.0</td>\n",
       "      <td>5.512921e+00</td>\n",
       "      <td>5.106887e+01</td>\n",
       "      <td>0.0</td>\n",
       "      <td>0.0</td>\n",
       "      <td>0.0</td>\n",
       "      <td>0.000000e+00</td>\n",
       "      <td>1064.0</td>\n",
       "    </tr>\n",
       "    <tr>\n",
       "      <th>Gr Liv Area</th>\n",
       "      <td>2051.0</td>\n",
       "      <td>1.499330e+03</td>\n",
       "      <td>5.004478e+02</td>\n",
       "      <td>334.0</td>\n",
       "      <td>1129.0</td>\n",
       "      <td>1444.0</td>\n",
       "      <td>1.728500e+03</td>\n",
       "      <td>5642.0</td>\n",
       "    </tr>\n",
       "    <tr>\n",
       "      <th>Bsmt Full Bath</th>\n",
       "      <td>2049.0</td>\n",
       "      <td>4.275256e-01</td>\n",
       "      <td>5.226732e-01</td>\n",
       "      <td>0.0</td>\n",
       "      <td>0.0</td>\n",
       "      <td>0.0</td>\n",
       "      <td>1.000000e+00</td>\n",
       "      <td>3.0</td>\n",
       "    </tr>\n",
       "    <tr>\n",
       "      <th>Bsmt Half Bath</th>\n",
       "      <td>2049.0</td>\n",
       "      <td>6.344558e-02</td>\n",
       "      <td>2.517052e-01</td>\n",
       "      <td>0.0</td>\n",
       "      <td>0.0</td>\n",
       "      <td>0.0</td>\n",
       "      <td>0.000000e+00</td>\n",
       "      <td>2.0</td>\n",
       "    </tr>\n",
       "    <tr>\n",
       "      <th>Full Bath</th>\n",
       "      <td>2051.0</td>\n",
       "      <td>1.577279e+00</td>\n",
       "      <td>5.492794e-01</td>\n",
       "      <td>0.0</td>\n",
       "      <td>1.0</td>\n",
       "      <td>2.0</td>\n",
       "      <td>2.000000e+00</td>\n",
       "      <td>4.0</td>\n",
       "    </tr>\n",
       "    <tr>\n",
       "      <th>Half Bath</th>\n",
       "      <td>2051.0</td>\n",
       "      <td>3.710385e-01</td>\n",
       "      <td>5.010427e-01</td>\n",
       "      <td>0.0</td>\n",
       "      <td>0.0</td>\n",
       "      <td>0.0</td>\n",
       "      <td>1.000000e+00</td>\n",
       "      <td>2.0</td>\n",
       "    </tr>\n",
       "    <tr>\n",
       "      <th>Bedroom AbvGr</th>\n",
       "      <td>2051.0</td>\n",
       "      <td>2.843491e+00</td>\n",
       "      <td>8.266183e-01</td>\n",
       "      <td>0.0</td>\n",
       "      <td>2.0</td>\n",
       "      <td>3.0</td>\n",
       "      <td>3.000000e+00</td>\n",
       "      <td>8.0</td>\n",
       "    </tr>\n",
       "    <tr>\n",
       "      <th>Kitchen AbvGr</th>\n",
       "      <td>2051.0</td>\n",
       "      <td>1.042906e+00</td>\n",
       "      <td>2.097900e-01</td>\n",
       "      <td>0.0</td>\n",
       "      <td>1.0</td>\n",
       "      <td>1.0</td>\n",
       "      <td>1.000000e+00</td>\n",
       "      <td>3.0</td>\n",
       "    </tr>\n",
       "    <tr>\n",
       "      <th>TotRms AbvGrd</th>\n",
       "      <td>2051.0</td>\n",
       "      <td>6.435885e+00</td>\n",
       "      <td>1.560225e+00</td>\n",
       "      <td>2.0</td>\n",
       "      <td>5.0</td>\n",
       "      <td>6.0</td>\n",
       "      <td>7.000000e+00</td>\n",
       "      <td>15.0</td>\n",
       "    </tr>\n",
       "    <tr>\n",
       "      <th>Fireplaces</th>\n",
       "      <td>2051.0</td>\n",
       "      <td>5.909313e-01</td>\n",
       "      <td>6.385163e-01</td>\n",
       "      <td>0.0</td>\n",
       "      <td>0.0</td>\n",
       "      <td>1.0</td>\n",
       "      <td>1.000000e+00</td>\n",
       "      <td>4.0</td>\n",
       "    </tr>\n",
       "    <tr>\n",
       "      <th>Garage Yr Blt</th>\n",
       "      <td>1937.0</td>\n",
       "      <td>1.978708e+03</td>\n",
       "      <td>2.544109e+01</td>\n",
       "      <td>1895.0</td>\n",
       "      <td>1961.0</td>\n",
       "      <td>1980.0</td>\n",
       "      <td>2.002000e+03</td>\n",
       "      <td>2207.0</td>\n",
       "    </tr>\n",
       "    <tr>\n",
       "      <th>Garage Cars</th>\n",
       "      <td>2050.0</td>\n",
       "      <td>1.776585e+00</td>\n",
       "      <td>7.645374e-01</td>\n",
       "      <td>0.0</td>\n",
       "      <td>1.0</td>\n",
       "      <td>2.0</td>\n",
       "      <td>2.000000e+00</td>\n",
       "      <td>5.0</td>\n",
       "    </tr>\n",
       "    <tr>\n",
       "      <th>Garage Area</th>\n",
       "      <td>2050.0</td>\n",
       "      <td>4.736717e+02</td>\n",
       "      <td>2.159346e+02</td>\n",
       "      <td>0.0</td>\n",
       "      <td>319.0</td>\n",
       "      <td>480.0</td>\n",
       "      <td>5.760000e+02</td>\n",
       "      <td>1418.0</td>\n",
       "    </tr>\n",
       "    <tr>\n",
       "      <th>Wood Deck SF</th>\n",
       "      <td>2051.0</td>\n",
       "      <td>9.383374e+01</td>\n",
       "      <td>1.285494e+02</td>\n",
       "      <td>0.0</td>\n",
       "      <td>0.0</td>\n",
       "      <td>0.0</td>\n",
       "      <td>1.680000e+02</td>\n",
       "      <td>1424.0</td>\n",
       "    </tr>\n",
       "    <tr>\n",
       "      <th>Open Porch SF</th>\n",
       "      <td>2051.0</td>\n",
       "      <td>4.755680e+01</td>\n",
       "      <td>6.674724e+01</td>\n",
       "      <td>0.0</td>\n",
       "      <td>0.0</td>\n",
       "      <td>27.0</td>\n",
       "      <td>7.000000e+01</td>\n",
       "      <td>547.0</td>\n",
       "    </tr>\n",
       "    <tr>\n",
       "      <th>Enclosed Porch</th>\n",
       "      <td>2051.0</td>\n",
       "      <td>2.257192e+01</td>\n",
       "      <td>5.984511e+01</td>\n",
       "      <td>0.0</td>\n",
       "      <td>0.0</td>\n",
       "      <td>0.0</td>\n",
       "      <td>0.000000e+00</td>\n",
       "      <td>432.0</td>\n",
       "    </tr>\n",
       "    <tr>\n",
       "      <th>3Ssn Porch</th>\n",
       "      <td>2051.0</td>\n",
       "      <td>2.591419e+00</td>\n",
       "      <td>2.522961e+01</td>\n",
       "      <td>0.0</td>\n",
       "      <td>0.0</td>\n",
       "      <td>0.0</td>\n",
       "      <td>0.000000e+00</td>\n",
       "      <td>508.0</td>\n",
       "    </tr>\n",
       "    <tr>\n",
       "      <th>Screen Porch</th>\n",
       "      <td>2051.0</td>\n",
       "      <td>1.651146e+01</td>\n",
       "      <td>5.737420e+01</td>\n",
       "      <td>0.0</td>\n",
       "      <td>0.0</td>\n",
       "      <td>0.0</td>\n",
       "      <td>0.000000e+00</td>\n",
       "      <td>490.0</td>\n",
       "    </tr>\n",
       "    <tr>\n",
       "      <th>Pool Area</th>\n",
       "      <td>2051.0</td>\n",
       "      <td>2.397855e+00</td>\n",
       "      <td>3.778257e+01</td>\n",
       "      <td>0.0</td>\n",
       "      <td>0.0</td>\n",
       "      <td>0.0</td>\n",
       "      <td>0.000000e+00</td>\n",
       "      <td>800.0</td>\n",
       "    </tr>\n",
       "    <tr>\n",
       "      <th>Misc Val</th>\n",
       "      <td>2051.0</td>\n",
       "      <td>5.157435e+01</td>\n",
       "      <td>5.733940e+02</td>\n",
       "      <td>0.0</td>\n",
       "      <td>0.0</td>\n",
       "      <td>0.0</td>\n",
       "      <td>0.000000e+00</td>\n",
       "      <td>17000.0</td>\n",
       "    </tr>\n",
       "    <tr>\n",
       "      <th>Mo Sold</th>\n",
       "      <td>2051.0</td>\n",
       "      <td>6.219893e+00</td>\n",
       "      <td>2.744736e+00</td>\n",
       "      <td>1.0</td>\n",
       "      <td>4.0</td>\n",
       "      <td>6.0</td>\n",
       "      <td>8.000000e+00</td>\n",
       "      <td>12.0</td>\n",
       "    </tr>\n",
       "    <tr>\n",
       "      <th>Yr Sold</th>\n",
       "      <td>2051.0</td>\n",
       "      <td>2.007776e+03</td>\n",
       "      <td>1.312014e+00</td>\n",
       "      <td>2006.0</td>\n",
       "      <td>2007.0</td>\n",
       "      <td>2008.0</td>\n",
       "      <td>2.009000e+03</td>\n",
       "      <td>2010.0</td>\n",
       "    </tr>\n",
       "    <tr>\n",
       "      <th>SalePrice</th>\n",
       "      <td>2051.0</td>\n",
       "      <td>1.814697e+05</td>\n",
       "      <td>7.925866e+04</td>\n",
       "      <td>12789.0</td>\n",
       "      <td>129825.0</td>\n",
       "      <td>162500.0</td>\n",
       "      <td>2.140000e+05</td>\n",
       "      <td>611657.0</td>\n",
       "    </tr>\n",
       "  </tbody>\n",
       "</table>\n",
       "</div>"
      ],
      "text/plain": [
       "                  count          mean           std          min          25%  \\\n",
       "Id               2051.0  1.474034e+03  8.439808e+02          1.0        753.5   \n",
       "PID              2051.0  7.135900e+08  1.886918e+08  526301100.0  528458140.0   \n",
       "MS SubClass      2051.0  5.700878e+01  4.282422e+01         20.0         20.0   \n",
       "Lot Frontage     1721.0  6.905520e+01  2.326065e+01         21.0         58.0   \n",
       "Lot Area         2051.0  1.006521e+04  6.742489e+03       1300.0       7500.0   \n",
       "Overall Qual     2051.0  6.112140e+00  1.426271e+00          1.0          5.0   \n",
       "Overall Cond     2051.0  5.562165e+00  1.104497e+00          1.0          5.0   \n",
       "Year Built       2051.0  1.971709e+03  3.017789e+01       1872.0       1953.5   \n",
       "Year Remod/Add   2051.0  1.984190e+03  2.103625e+01       1950.0       1964.5   \n",
       "Mas Vnr Area     2029.0  9.969591e+01  1.749631e+02          0.0          0.0   \n",
       "BsmtFin SF 1     2050.0  4.423005e+02  4.612041e+02          0.0          0.0   \n",
       "BsmtFin SF 2     2050.0  4.795902e+01  1.650009e+02          0.0          0.0   \n",
       "Bsmt Unf SF      2050.0  5.677283e+02  4.449548e+02          0.0        220.0   \n",
       "Total Bsmt SF    2050.0  1.057988e+03  4.494107e+02          0.0        793.0   \n",
       "1st Flr SF       2051.0  1.164488e+03  3.964469e+02        334.0        879.5   \n",
       "2nd Flr SF       2051.0  3.293291e+02  4.256710e+02          0.0          0.0   \n",
       "Low Qual Fin SF  2051.0  5.512921e+00  5.106887e+01          0.0          0.0   \n",
       "Gr Liv Area      2051.0  1.499330e+03  5.004478e+02        334.0       1129.0   \n",
       "Bsmt Full Bath   2049.0  4.275256e-01  5.226732e-01          0.0          0.0   \n",
       "Bsmt Half Bath   2049.0  6.344558e-02  2.517052e-01          0.0          0.0   \n",
       "Full Bath        2051.0  1.577279e+00  5.492794e-01          0.0          1.0   \n",
       "Half Bath        2051.0  3.710385e-01  5.010427e-01          0.0          0.0   \n",
       "Bedroom AbvGr    2051.0  2.843491e+00  8.266183e-01          0.0          2.0   \n",
       "Kitchen AbvGr    2051.0  1.042906e+00  2.097900e-01          0.0          1.0   \n",
       "TotRms AbvGrd    2051.0  6.435885e+00  1.560225e+00          2.0          5.0   \n",
       "Fireplaces       2051.0  5.909313e-01  6.385163e-01          0.0          0.0   \n",
       "Garage Yr Blt    1937.0  1.978708e+03  2.544109e+01       1895.0       1961.0   \n",
       "Garage Cars      2050.0  1.776585e+00  7.645374e-01          0.0          1.0   \n",
       "Garage Area      2050.0  4.736717e+02  2.159346e+02          0.0        319.0   \n",
       "Wood Deck SF     2051.0  9.383374e+01  1.285494e+02          0.0          0.0   \n",
       "Open Porch SF    2051.0  4.755680e+01  6.674724e+01          0.0          0.0   \n",
       "Enclosed Porch   2051.0  2.257192e+01  5.984511e+01          0.0          0.0   \n",
       "3Ssn Porch       2051.0  2.591419e+00  2.522961e+01          0.0          0.0   \n",
       "Screen Porch     2051.0  1.651146e+01  5.737420e+01          0.0          0.0   \n",
       "Pool Area        2051.0  2.397855e+00  3.778257e+01          0.0          0.0   \n",
       "Misc Val         2051.0  5.157435e+01  5.733940e+02          0.0          0.0   \n",
       "Mo Sold          2051.0  6.219893e+00  2.744736e+00          1.0          4.0   \n",
       "Yr Sold          2051.0  2.007776e+03  1.312014e+00       2006.0       2007.0   \n",
       "SalePrice        2051.0  1.814697e+05  7.925866e+04      12789.0     129825.0   \n",
       "\n",
       "                         50%           75%          max  \n",
       "Id                    1486.0  2.198000e+03       2930.0  \n",
       "PID              535453200.0  9.071801e+08  924152030.0  \n",
       "MS SubClass             50.0  7.000000e+01        190.0  \n",
       "Lot Frontage            68.0  8.000000e+01        313.0  \n",
       "Lot Area              9430.0  1.151350e+04     159000.0  \n",
       "Overall Qual             6.0  7.000000e+00         10.0  \n",
       "Overall Cond             5.0  6.000000e+00          9.0  \n",
       "Year Built            1974.0  2.001000e+03       2010.0  \n",
       "Year Remod/Add        1993.0  2.004000e+03       2010.0  \n",
       "Mas Vnr Area             0.0  1.610000e+02       1600.0  \n",
       "BsmtFin SF 1           368.0  7.337500e+02       5644.0  \n",
       "BsmtFin SF 2             0.0  0.000000e+00       1474.0  \n",
       "Bsmt Unf SF            474.5  8.110000e+02       2336.0  \n",
       "Total Bsmt SF          994.5  1.318750e+03       6110.0  \n",
       "1st Flr SF            1093.0  1.405000e+03       5095.0  \n",
       "2nd Flr SF               0.0  6.925000e+02       1862.0  \n",
       "Low Qual Fin SF          0.0  0.000000e+00       1064.0  \n",
       "Gr Liv Area           1444.0  1.728500e+03       5642.0  \n",
       "Bsmt Full Bath           0.0  1.000000e+00          3.0  \n",
       "Bsmt Half Bath           0.0  0.000000e+00          2.0  \n",
       "Full Bath                2.0  2.000000e+00          4.0  \n",
       "Half Bath                0.0  1.000000e+00          2.0  \n",
       "Bedroom AbvGr            3.0  3.000000e+00          8.0  \n",
       "Kitchen AbvGr            1.0  1.000000e+00          3.0  \n",
       "TotRms AbvGrd            6.0  7.000000e+00         15.0  \n",
       "Fireplaces               1.0  1.000000e+00          4.0  \n",
       "Garage Yr Blt         1980.0  2.002000e+03       2207.0  \n",
       "Garage Cars              2.0  2.000000e+00          5.0  \n",
       "Garage Area            480.0  5.760000e+02       1418.0  \n",
       "Wood Deck SF             0.0  1.680000e+02       1424.0  \n",
       "Open Porch SF           27.0  7.000000e+01        547.0  \n",
       "Enclosed Porch           0.0  0.000000e+00        432.0  \n",
       "3Ssn Porch               0.0  0.000000e+00        508.0  \n",
       "Screen Porch             0.0  0.000000e+00        490.0  \n",
       "Pool Area                0.0  0.000000e+00        800.0  \n",
       "Misc Val                 0.0  0.000000e+00      17000.0  \n",
       "Mo Sold                  6.0  8.000000e+00         12.0  \n",
       "Yr Sold               2008.0  2.009000e+03       2010.0  \n",
       "SalePrice           162500.0  2.140000e+05     611657.0  "
      ]
     },
     "execution_count": 6,
     "metadata": {},
     "output_type": "execute_result"
    }
   ],
   "source": [
    "df.describe().T\n",
    "# columsn with particular skew\n",
    "# Lot Area,BsmtFin SF 1, BsmtFin SF 2 -- basically all measurements"
   ]
  },
  {
   "cell_type": "code",
   "execution_count": 7,
   "metadata": {},
   "outputs": [
    {
     "name": "stdout",
     "output_type": "stream",
     "text": [
      "Lot Frontage 330\n",
      "Alley 1911\n",
      "Mas Vnr Type 22\n",
      "Mas Vnr Area 22\n",
      "Bsmt Qual 55\n",
      "Bsmt Cond 55\n",
      "Bsmt Exposure 58\n",
      "BsmtFin Type 1 55\n",
      "BsmtFin SF 1 1\n",
      "BsmtFin Type 2 56\n",
      "BsmtFin SF 2 1\n",
      "Bsmt Unf SF 1\n",
      "Total Bsmt SF 1\n",
      "Bsmt Full Bath 2\n",
      "Bsmt Half Bath 2\n",
      "Fireplace Qu 1000\n",
      "Garage Type 113\n",
      "Garage Yr Blt 114\n",
      "Garage Finish 114\n",
      "Garage Cars 1\n",
      "Garage Area 1\n",
      "Garage Qual 114\n",
      "Garage Cond 114\n",
      "Pool QC 2042\n",
      "Fence 1651\n",
      "Misc Feature 1986\n"
     ]
    }
   ],
   "source": [
    "# what columns have nulls and how many?\n",
    "for col in df.columns:\n",
    "    if df[col].isna().sum() > 0:\n",
    "        print(col, df[col].isnull().sum())\n"
   ]
  },
  {
   "cell_type": "markdown",
   "metadata": {},
   "source": [
    "### EDA"
   ]
  },
  {
   "cell_type": "code",
   "execution_count": 8,
   "metadata": {},
   "outputs": [],
   "source": [
    "def make_pair_plot(df_corr):\n",
    "    # Set the default matplotlib figure size to 7x7:\n",
    "    fix, ax = plt.subplots(figsize=(18,15))\n",
    "\n",
    "    # Generate a mask for the upper triangle (taken from seaborn example gallery)\n",
    "    mask = np.zeros_like(df_corr, dtype=np.bool)\n",
    "    mask[np.triu_indices_from(mask)] = True\n",
    "\n",
    "    # Plot the heatmap with seaborn.\n",
    "    # Assign the matplotlib axis the function returns. This will let us resize the labels.\n",
    "    ax = sns.heatmap(df_corr, mask=mask, ax=ax, annot=True, cmap=\"BrBG\")\n",
    "\n",
    "    # Resize the labels.\n",
    "    ax.set_xticklabels(ax.xaxis.get_ticklabels(), fontsize=14)\n",
    "    ax.set_yticklabels(ax.yaxis.get_ticklabels(), fontsize=14)\n",
    "\n",
    "    # If you put plt.show() at the bottom, it prevents those useless printouts from matplotlib.\n",
    "    plt.show()"
   ]
  },
  {
   "cell_type": "markdown",
   "metadata": {},
   "source": [
    "Do a prelimary check on correlation with numeric features"
   ]
  },
  {
   "cell_type": "code",
   "execution_count": 9,
   "metadata": {},
   "outputs": [
    {
     "data": {
      "image/png": "[encoded data removed]",
      "text/plain": [
       "<Figure size 1296x1080 with 2 Axes>"
      ]
     },
     "metadata": {
      "needs_background": "light"
     },
     "output_type": "display_data"
    }
   ],
   "source": [
    "make_pair_plot(df.corr())"
   ]
  },
  {
   "cell_type": "markdown",
   "metadata": {},
   "source": [
    "* This is a busy plot, but we can see right away a high correlation between Overall Quality and SalePrice\n",
    "* Gr Live Area also important\n",
    "* let's print out the most important\n",
    "    "
   ]
  },
  {
   "cell_type": "code",
   "execution_count": 10,
   "metadata": {},
   "outputs": [
    {
     "name": "stdout",
     "output_type": "stream",
     "text": [
      "SalePrice         1.000000\n",
      "Overall Qual      0.800207\n",
      "Gr Liv Area       0.697038\n",
      "Garage Area       0.650270\n",
      "Garage Cars       0.648220\n",
      "Total Bsmt SF     0.628925\n",
      "1st Flr SF        0.618486\n",
      "Year Built        0.571849\n",
      "Year Remod/Add    0.550370\n",
      "Full Bath         0.537969\n",
      "Garage Yr Blt     0.533922\n",
      "Mas Vnr Area      0.512230\n",
      "TotRms AbvGrd     0.504014\n",
      "Fireplaces        0.471093\n",
      "BsmtFin SF 1      0.423519\n",
      "Name: SalePrice, dtype: float64\n"
     ]
    }
   ],
   "source": [
    "corr = df.corr()\n",
    "corr.sort_values([\"SalePrice\"], ascending = False, inplace = True)\n",
    "print(corr.SalePrice.head(15))"
   ]
  },
  {
   "cell_type": "code",
   "execution_count": null,
   "metadata": {},
   "outputs": [],
   "source": []
  },
  {
   "cell_type": "markdown",
   "metadata": {},
   "source": [
    "#### Impact of Quality and Gr Liv Area on Sale Price\n",
    "* Gr Liv Area scatter plot show a couple of clear outliers where large houses sold for comparatively cheap\n",
    "* if I replot against log transformed sale price, it does look a bit more linear"
   ]
  },
  {
   "cell_type": "code",
   "execution_count": 11,
   "metadata": {},
   "outputs": [
    {
     "data": {
      "text/plain": [
       "<matplotlib.collections.PathCollection at 0x1ba8d9f65f8>"
      ]
     },
     "execution_count": 11,
     "metadata": {},
     "output_type": "execute_result"
    },
    {
     "data": {
      "image/png": "[encoded data removed]",
      "text/plain": [
       "<Figure size 432x288 with 1 Axes>"
      ]
     },
     "metadata": {
      "needs_background": "light"
     },
     "output_type": "display_data"
    }
   ],
   "source": [
    "plt.scatter(df['Overall Qual'], df['SalePrice'])"
   ]
  },
  {
   "cell_type": "code",
   "execution_count": 12,
   "metadata": {},
   "outputs": [
    {
     "data": {
      "text/plain": [
       "<matplotlib.collections.PathCollection at 0x1ba8cfd79b0>"
      ]
     },
     "execution_count": 12,
     "metadata": {},
     "output_type": "execute_result"
    },
    {
     "data": {
      "image/png": "[encoded data removed]",
      "text/plain": [
       "<Figure size 432x288 with 1 Axes>"
      ]
     },
     "metadata": {
      "needs_background": "light"
     },
     "output_type": "display_data"
    }
   ],
   "source": [
    "plt.scatter(df['Gr Liv Area'], df['SalePrice'])\n",
    "# we have a couple obvious outliers here with very large living area and a cheap price"
   ]
  },
  {
   "cell_type": "code",
   "execution_count": 13,
   "metadata": {},
   "outputs": [
    {
     "data": {
      "text/plain": [
       "<matplotlib.collections.PathCollection at 0x1ba8d06b080>"
      ]
     },
     "execution_count": 13,
     "metadata": {},
     "output_type": "execute_result"
    },
    {
     "data": {
      "image/png": "[encoded data removed]",
      "text/plain": [
       "<Figure size 432x288 with 1 Axes>"
      ]
     },
     "metadata": {
      "needs_background": "light"
     },
     "output_type": "display_data"
    }
   ],
   "source": [
    "# replot against log transformed sale price -- a bit more linear\n",
    "plt.scatter(df['Gr Liv Area'], np.log1p(df['SalePrice']))"
   ]
  },
  {
   "cell_type": "code",
   "execution_count": 14,
   "metadata": {},
   "outputs": [
    {
     "data": {
      "text/plain": [
       "Text(0,0.5,'Frequency')"
      ]
     },
     "execution_count": 14,
     "metadata": {},
     "output_type": "execute_result"
    },
    {
     "data": {
      "image/png": "[encoded data removed]",
      "text/plain": [
       "<Figure size 432x288 with 1 Axes>"
      ]
     },
     "metadata": {
      "needs_background": "light"
     },
     "output_type": "display_data"
    }
   ],
   "source": [
    "plt.hist(df['Gr Liv Area'])\n",
    "plt.xlabel(\"Above Grade Ground Living Area Square Feet\")\n",
    "plt.ylabel(\"Frequency\")"
   ]
  },
  {
   "cell_type": "code",
   "execution_count": 15,
   "metadata": {},
   "outputs": [
    {
     "data": {
      "text/plain": [
       "960     5642\n",
       "1885    5095\n",
       "Name: Gr Liv Area, dtype: int64"
      ]
     },
     "execution_count": 15,
     "metadata": {},
     "output_type": "execute_result"
    }
   ],
   "source": [
    "df['Gr Liv Area'][(df['Gr Liv Area']>=5000)]"
   ]
  },
  {
   "cell_type": "code",
   "execution_count": 16,
   "metadata": {},
   "outputs": [
    {
     "data": {
      "text/plain": [
       "(0, 0)"
      ]
     },
     "execution_count": 16,
     "metadata": {},
     "output_type": "execute_result"
    }
   ],
   "source": [
    "# any rows missing these two key pieces of info?\n",
    "df['Overall Qual'].isnull().sum(), df['Gr Liv Area'].isnull().sum()\n"
   ]
  },
  {
   "cell_type": "code",
   "execution_count": 17,
   "metadata": {},
   "outputs": [
    {
     "data": {
      "text/plain": [
       "<matplotlib.collections.PathCollection at 0x1ba8d136908>"
      ]
     },
     "execution_count": 17,
     "metadata": {},
     "output_type": "execute_result"
    },
    {
     "data": {
      "image/png": "[encoded data removed]",
      "text/plain": [
       "<Figure size 432x288 with 1 Axes>"
      ]
     },
     "metadata": {
      "needs_background": "light"
     },
     "output_type": "display_data"
    }
   ],
   "source": [
    "plt.scatter(df['1st Flr SF'], df['SalePrice'])"
   ]
  },
  {
   "cell_type": "markdown",
   "metadata": {},
   "source": [
    "#### Impact of Year Built on SalePrice\n",
    "* can see a lot more expensive houses built in recent years\n",
    "* could be an interesting interaction here..."
   ]
  },
  {
   "cell_type": "code",
   "execution_count": 18,
   "metadata": {},
   "outputs": [
    {
     "data": {
      "text/plain": [
       "<matplotlib.collections.PathCollection at 0x1ba8cbc4ba8>"
      ]
     },
     "execution_count": 18,
     "metadata": {},
     "output_type": "execute_result"
    },
    {
     "data": {
      "image/png": "[encoded data removed]",
      "text/plain": [
       "<Figure size 432x288 with 1 Axes>"
      ]
     },
     "metadata": {
      "needs_background": "light"
     },
     "output_type": "display_data"
    }
   ],
   "source": [
    "#plt.scatter(df['Year Built'][(df['Year Built']>=2000)], df['SalePrice'][(df['Year Built']>=2000)])\n",
    "plt.scatter(df['Year Built'], df['SalePrice'])"
   ]
  },
  {
   "cell_type": "markdown",
   "metadata": {},
   "source": [
    "#### Scatterplot of SalePrice\n",
    "* clearly right skewed"
   ]
  },
  {
   "cell_type": "code",
   "execution_count": 19,
   "metadata": {},
   "outputs": [
    {
     "data": {
      "text/plain": [
       "Text(0,0.5,'Frequency')"
      ]
     },
     "execution_count": 19,
     "metadata": {},
     "output_type": "execute_result"
    },
    {
     "data": {
      "image/png": "[encoded data removed]",
      "text/plain": [
       "<Figure size 432x288 with 1 Axes>"
      ]
     },
     "metadata": {
      "needs_background": "light"
     },
     "output_type": "display_data"
    }
   ],
   "source": [
    "plt.hist(df['SalePrice'])\n",
    "plt.xlabel(\"Price\")\n",
    "plt.ylabel(\"Frequency\")\n",
    "# price is right skewed"
   ]
  },
  {
   "cell_type": "markdown",
   "metadata": {},
   "source": [
    "#### Impact of Month Sold on SalePrice"
   ]
  },
  {
   "cell_type": "code",
   "execution_count": 20,
   "metadata": {},
   "outputs": [
    {
     "data": {
      "text/plain": [
       "Text(0,0.5,'Frequency')"
      ]
     },
     "execution_count": 20,
     "metadata": {},
     "output_type": "execute_result"
    },
    {
     "data": {
      "image/png": "[encoded data removed]",
      "text/plain": [
       "<Figure size 432x288 with 1 Axes>"
      ]
     },
     "metadata": {
      "needs_background": "light"
     },
     "output_type": "display_data"
    }
   ],
   "source": [
    "plt.hist(df['Mo Sold'])\n",
    "plt.xlabel(\"Month Sold\")\n",
    "plt.ylabel(\"Frequency\")\n",
    "# price is right skewed"
   ]
  },
  {
   "cell_type": "code",
   "execution_count": 21,
   "metadata": {},
   "outputs": [
    {
     "data": {
      "text/plain": [
       "<matplotlib.collections.PathCollection at 0x1ba8d963438>"
      ]
     },
     "execution_count": 21,
     "metadata": {},
     "output_type": "execute_result"
    },
    {
     "data": {
      "image/png": "[encoded data removed]",
      "text/plain": [
       "<Figure size 432x288 with 1 Axes>"
      ]
     },
     "metadata": {
      "needs_background": "light"
     },
     "output_type": "display_data"
    }
   ],
   "source": [
    "plt.scatter(df['Mo Sold'], df['SalePrice'])\n",
    "# bit of a drop off in Dec"
   ]
  },
  {
   "cell_type": "code",
   "execution_count": 22,
   "metadata": {},
   "outputs": [
    {
     "data": {
      "text/plain": [
       "<matplotlib.collections.PathCollection at 0x1ba8ced1ba8>"
      ]
     },
     "execution_count": 22,
     "metadata": {},
     "output_type": "execute_result"
    },
    {
     "data": {
      "image/png": "[encoded data removed]",
      "text/plain": [
       "<Figure size 432x288 with 1 Axes>"
      ]
     },
     "metadata": {
      "needs_background": "light"
     },
     "output_type": "display_data"
    }
   ],
   "source": [
    "plt.scatter(df['Yr Sold'], df['SalePrice'])"
   ]
  },
  {
   "cell_type": "markdown",
   "metadata": {},
   "source": [
    "## Baseline Model\n",
    "Since Overall Quality is so highly correlated with house price, let's build a simple model that uses it to predict price"
   ]
  },
  {
   "cell_type": "code",
   "execution_count": 23,
   "metadata": {},
   "outputs": [
    {
     "data": {
      "text/plain": [
       "0.6403310352003229"
      ]
     },
     "execution_count": 23,
     "metadata": {},
     "output_type": "execute_result"
    }
   ],
   "source": [
    "df_simple=df[['Overall Qual']]\n",
    "y_simple= df[['SalePrice']]\n",
    "lr =LinearRegression()\n",
    "lr.fit(df_simple,y_simple)\n",
    "lr.score(df_simple,y_simple)"
   ]
  },
  {
   "cell_type": "markdown",
   "metadata": {},
   "source": [
    "Our simple model using only Overall Quality to predict price has an accuracy of .64.  that is the benchmark we need to beat "
   ]
  },
  {
   "cell_type": "markdown",
   "metadata": {},
   "source": [
    "## Data Cleanup\n",
    "\n",
    "* there are a few things we need to do/define before we do our main transforms in the dataframe mapper\n",
    "* drop the two outliers in the dataset that sold for really cheap\n",
    "* numerically encode features reated on poor to excellent scale (rankings have meaning here)\n",
    "    * Ex Excellent4\n",
    "     * Gd Good=3\n",
    "    * TA Average/Typical=2\n",
    "    * Fa Fair=1\n",
    "    * Po Poor=0\n",
    " * Columns to drop:\n",
    "    * can drop ID and PID colmsn\n",
    "    * drop Pool QC column as 2042 of 2051 rows are missing\n",
    "    * alley and Misc Feature are also missing many values \n",
    "    * drop Utilities because almost all houses have the same value therefore little predictive power\n",
    " * "
   ]
  },
  {
   "cell_type": "code",
   "execution_count": 24,
   "metadata": {},
   "outputs": [],
   "source": [
    "def make_binary(col):\n",
    "     df[col]=df[col].apply(lambda x: 1 if x == 'Y' else 0 )"
   ]
  },
  {
   "cell_type": "code",
   "execution_count": 25,
   "metadata": {},
   "outputs": [],
   "source": [
    "# drop the two outliers in the dataset that sold for really cheap\n",
    "ix=df['Gr Liv Area'][(df['Gr Liv Area']>=5000)].index\n",
    "df.drop(index = ix, axis=0, inplace=True)"
   ]
  },
  {
   "cell_type": "code",
   "execution_count": 26,
   "metadata": {},
   "outputs": [],
   "source": [
    "# hack -- fill in missing garage year built before split and transform\n",
    "def pre_fix_df(df):\n",
    "    df['Garage Yr Blt'].fillna(df['Year Built'], inplace=True)\n",
    "    # encode rankings\n",
    "    score_dict={'Ex':5, 'Gd':4, 'TA': 3, 'Fa':2,'Po':1, 'NA': 0}\n",
    "    for col in ['Kitchen Qual','Heating QC','Exter Qual','Exter Cond']:\n",
    "        df[col] = df[col].fillna('TA') # default to mid range Typical\n",
    "        df[col] = df[col].map(score_dict).astype(int)\n",
    "    # handling ranked cols with NAs as valid entries\n",
    "    for col in ['Bsmt Cond','Bsmt Qual','Fireplace Qu','Garage Qual','Garage Cond','Pool QC']:\n",
    "        df[col] = df[col].fillna('NA') # default to not existing\n",
    "        df[col] = df[col].map(score_dict).astype(int)\n",
    "    \n",
    "    # BsmtExposure\n",
    "    exp_dict={'Gd':4, 'Av':3, 'Mn':2, 'No': 1, 'NA':0}\n",
    "    df['Bsmt Exposure'] = df['Bsmt Exposure'].fillna('NA') # not existing\n",
    "    df['Bsmt Exposure'] = df['Bsmt Exposure'].map(exp_dict).astype(int)\n",
    "                             \n",
    "    # basement finishes\n",
    "    finish_dict={'GLQ':6, 'ALQ' :5,'BLQ' :4, 'Rec':3,'LwQ' :2,'Unf':1,'NA':0 } \n",
    "    for col in ['BsmtFin Type 1', 'BsmtFin Type 2']:\n",
    "        df[col] = df[col].fillna('NA')  # default to not existing\n",
    "        df[col] = df[col].map(finish_dict).astype(int)\n",
    "                             \n",
    "    # home functionality rating\n",
    "    func_dict={'Typ':7,'Min1':6,'Min2' :5,'Mod' :4,'Maj1' :3,'Maj2' :2,'Sev' : 1,'Sal' : 0 }\n",
    "    df['Functional'] = df['Functional'].fillna('Typ') # default to typical\n",
    "    df['Functional'] = df['Functional'].map(func_dict).astype(int)     \n",
    "    \n",
    "    # garage finish\n",
    "    garage_finish_dict={'Fin':3,  'RFn':2,  'Unf':1,  'NA':0}\n",
    "    df['Garage Finish'] = df['Garage Finish'].fillna('NA') # default to no garage\n",
    "    df['Garage Finish'] = df['Garage Finish'].map(garage_finish_dict).astype(int) \n",
    "\n",
    "\n",
    "    # any binary columns we can convert to 0s and 1s?\n",
    "    # * PavedDrive: Paved driveway (Y Paved\n",
    "    # * CentralAir: Central air conditioning (N/Y\n",
    "    df['Paved Drive']=df['Paved Drive'].apply(lambda x: 1 if x == 'Y' else 0 )\n",
    "    df['Central Air']=df['Central Air'].apply(lambda x: 1 if x == 'Y' else 0 )\n",
    "    return df"
   ]
  },
  {
   "cell_type": "markdown",
   "metadata": {},
   "source": [
    "## Do our train test split\n",
    "\n",
    "* create a DataFramemapper to transform the passed in dataframe\n",
    "* do Inputation where needed and scale as appropriate"
   ]
  },
  {
   "cell_type": "code",
   "execution_count": 27,
   "metadata": {},
   "outputs": [
    {
     "data": {
      "text/plain": [
       "(2049, 81)"
      ]
     },
     "execution_count": 27,
     "metadata": {},
     "output_type": "execute_result"
    }
   ],
   "source": [
    "df.shape"
   ]
  },
  {
   "cell_type": "code",
   "execution_count": 28,
   "metadata": {},
   "outputs": [
    {
     "data": {
      "text/plain": [
       "((1536, 80), (513, 80), (1536,))"
      ]
     },
     "execution_count": 28,
     "metadata": {},
     "output_type": "execute_result"
    }
   ],
   "source": [
    "X_train, X_test, y_train, y_test = train_test_split(df.iloc[:,0:-1], df['SalePrice'], random_state=2003)\n",
    "X_train.shape, X_test.shape, y_train.shape"
   ]
  },
  {
   "cell_type": "code",
   "execution_count": 29,
   "metadata": {},
   "outputs": [],
   "source": [
    "# what if we try log transform of price to address right skew?\n",
    "if do_logtransform_price:\n",
    "    y_train = np.log1p(y_train)\n",
    "    y_test = np.log1p(y_test)"
   ]
  },
  {
   "cell_type": "code",
   "execution_count": 30,
   "metadata": {},
   "outputs": [],
   "source": [
    "\n",
    "# drop the following columns by not including in mapper\n",
    "#'Id','PID','Alley','Pool QC','Utilities'\n",
    "mapper = DataFrameMapper([\n",
    "    ('MS SubClass',[CategoricalImputer(), LabelBinarizer()]),\n",
    "    #MS Zoning: Identifies the general zoning classification of the sale.\n",
    "    ('MS Zoning', LabelBinarizer()),\n",
    "    (['Lot Frontage'],[SimpleImputer(strategy='median'), StandardScaler()]),\n",
    "    (['Lot Area'],[SimpleImputer(strategy='median'), StandardScaler()]),\n",
    "    #('Lot Shape', LabelBinarizer()),\n",
    "   # ('Land Contour', LabelBinarizer()),\n",
    "    ('Lot Config', LabelBinarizer()),\n",
    "   # ('Land Slope', LabelBinarizer()),\n",
    "    ('Condition 1', LabelBinarizer()),\n",
    "    ('Condition 2', LabelBinarizer()),\n",
    "    ('Bldg Type', LabelBinarizer()),\n",
    "    ('House Style', LabelBinarizer()),\n",
    "    (['Overall Qual'], [SimpleImputer(strategy='median'), StandardScaler()]),\n",
    "    (['Overall Cond'],[SimpleImputer(strategy='median'), StandardScaler()]),\n",
    "    (['Year Built'], [StandardScaler()]),\n",
    "    (['Year Remod/Add'],[ StandardScaler()]),\n",
    "    ('Neighborhood', LabelBinarizer()),\n",
    "    ('Roof Style', LabelBinarizer()),\n",
    "    ('Roof Matl', LabelBinarizer()),\n",
    "    ('Exterior 1st', LabelBinarizer()),\n",
    "    #('Exterior 2nd', LabelBinarizer()),\n",
    "    ('Mas Vnr Type',[CategoricalImputer(replacement='None'), LabelBinarizer()]),\n",
    "    # for masonry veneer, all houses with None for veneer in the dataset have 0 for the veneer area, so we'll do the same here\n",
    "    #(['Mas Vnr Area'], [SimpleImputer(fill_value=0), StandardScaler()]),\n",
    "    ('Exter Qual', None), #LabelBinarizer()), converted to ranked scale\n",
    "    ('Exter Cond', None), # LabelBinarizer()), converted to ranked scale\n",
    "    ('Foundation', LabelBinarizer()),\n",
    "    ('Bsmt Cond', None), # converted to rank\n",
    "    ('Bsmt Qual', None), # converted to rank [CategoricalImputer(replacement='None'), LabelBinarizer()]),\n",
    "    ('Bsmt Exposure',None), #[CategoricalImputer(replacement='None'), LabelBinarizer()]), chagned to ranking\n",
    "    ('BsmtFin Type 1', None), #[CategoricalImputer(replacement='None'), LabelBinarizer()]),changed to ranking\n",
    "    (['BsmtFin SF 1'], [SimpleImputer(fill_value=0), StandardScaler()]),\n",
    "    #('BsmtFin Type 2', None), # [CategoricalImputer(replacement='None'), LabelBinarizer()]), changed to ranking\n",
    "   # (['BsmtFin SF 2'], [SimpleImputer(fill_value=0), StandardScaler()]),\n",
    "    (['Bsmt Unf SF'], [SimpleImputer(fill_value=0), StandardScaler()]),\n",
    "    (['Total Bsmt SF'], [SimpleImputer(fill_value=0), StandardScaler()]),\n",
    "    ('Heating', LabelBinarizer()),\n",
    "    ('Heating QC', None), # LabelBinarizer()), # chagned to numeric ranking 1-5\n",
    "    ('Central Air', None), # LabelBinarizer()), # Change to 0/1\n",
    "   # ('Electrical',[CategoricalImputer(replacement='None'), LabelBinarizer()]),\n",
    "    (['1st Flr SF'], [SimpleImputer(strategy='median'), StandardScaler()]),\n",
    "    (['2nd Flr SF'], [SimpleImputer(strategy='median'), StandardScaler()]),\n",
    "    (['Low Qual Fin SF'], [SimpleImputer(fill_value=0), StandardScaler()]),\n",
    "    (['Gr Liv Area'], [SimpleImputer(strategy='median'), StandardScaler()]),\n",
    "    # remove scaling on number of baths/beds\n",
    "    (['Bsmt Full Bath'], [SimpleImputer(fill_value=0)]),\n",
    "    (['Bsmt Half Bath'], [SimpleImputer(fill_value=0)]),\n",
    "    (['Full Bath'], [SimpleImputer(strategy='most_frequent')]),\n",
    "    (['Half Bath'], [SimpleImputer(fill_value=0)]),\n",
    "    (['Bedroom AbvGr'], [SimpleImputer(strategy='most_frequent')]),\n",
    "    (['Kitchen AbvGr'], [SimpleImputer(strategy='most_frequent')]),\n",
    "    ('Kitchen Qual', None), #LabelBinarizer()), # changed to numeric ranking 1-5\n",
    "    \n",
    "    (['TotRms AbvGrd'], [SimpleImputer(strategy='most_frequent'), StandardScaler()]),\n",
    "    ('Functional', None), # LabelBinarizer()), # added ranking\n",
    "  # (['Fireplaces'], [SimpleImputer(fill_value=0), StandardScaler()]),\n",
    "  #  ('Fireplace Qu', None), # [CategoricalImputer(replacement='NA'), LabelBinarizer()]), converted to rank\n",
    "    ('Garage Type',[CategoricalImputer(replacement='None'), LabelBinarizer()]),\n",
    "   # (['Garage Yr Blt'], [StandardScaler()]), # TODO: set to year house built if missing\n",
    " #   ('Garage Finish', None), #[CategoricalImputer(replacement='None'), LabelBinarizer()]), converted to rank\n",
    " #   (['Garage Cars'],[SimpleImputer(strategy='median'), StandardScaler()]),\n",
    "    (['Garage Area'], [SimpleImputer(strategy='median'), StandardScaler()]),\n",
    "    # change to numerical ranking\n",
    "    #('Garage Qual', [CategoricalImputer(replacement='None'), LabelBinarizer()]),\n",
    "    #('Garage Cond', [CategoricalImputer(replacement='None'), LabelBinarizer()]),\n",
    "     ('Garage Qual', None),\n",
    "    ('Garage Cond', None),  \n",
    "    ('Paved Drive', None), #LabelBinarizer()), #  change to 0/1\n",
    "    (['Wood Deck SF'], [SimpleImputer(fill_value=0), StandardScaler()]),\n",
    "    (['Open Porch SF'], [SimpleImputer(fill_value=0), StandardScaler()]),\n",
    "    (['Enclosed Porch'], [SimpleImputer(fill_value=0), StandardScaler()]),\n",
    "    (['3Ssn Porch'], [SimpleImputer(fill_value=0), StandardScaler()]),\n",
    "    (['Pool Area'], [SimpleImputer(fill_value=0), StandardScaler()]),\n",
    "    #('Pool QC', None),\n",
    "    ('Fence', [CategoricalImputer(replacement='None'), LabelBinarizer()]),\n",
    "    #('Misc Feature', [CategoricalImputer(replacement='None'), LabelBinarizer()]),\n",
    "   # (['Misc Val'], [SimpleImputer(fill_value=0), StandardScaler()]),\n",
    "   # (['Mo Sold'], [StandardScaler()]),\n",
    "    #(['Mo Sold'], [StandardScaler()]), # month isn't really a ranking -- probably better to bin it\n",
    "    (['Yr Sold'], [StandardScaler()]),\n",
    "    ('Sale Type', LabelBinarizer())\n",
    "], df_out=True)\n"
   ]
  },
  {
   "cell_type": "code",
   "execution_count": 31,
   "metadata": {},
   "outputs": [],
   "source": [
    "# ## df_out=True: returns a fully formatted dataframe\n",
    "\n",
    "# # drop the following columns by not including in mapper\n",
    "# #'Id','PID','Alley','Pool QC','Utilities'\n",
    "\n",
    "\n",
    "# mapper_back = DataFrameMapper([\n",
    "#     ('MS SubClass',[CategoricalImputer(), LabelBinarizer()]),\n",
    "#     #MS Zoning: Identifies the general zoning classification of the sale. categorical (i.e. A=Agriculutre, C=Commercial) most are RL (1598), Rm(316) combine all residential zoned RL RM and RH?\n",
    "#     ('MS Zoning', LabelBinarizer()),\n",
    "#     (['Lot Frontage'],[SimpleImputer(strategy='median'), StandardScaler()]),\n",
    "#     (['Lot Area'],[SimpleImputer(strategy='median'), StandardScaler()]),\n",
    "#     #('Lot Shape', LabelBinarizer()),\n",
    "#     ('Land Contour', LabelBinarizer()),\n",
    "#     ('Lot Config', LabelBinarizer()),\n",
    "#    # ('Land Slope', LabelBinarizer()),\n",
    "#     ('Condition 1', LabelBinarizer()),\n",
    "#     ('Condition 2', LabelBinarizer()),\n",
    "#     ('Bldg Type', LabelBinarizer()),\n",
    "#     ('House Style', LabelBinarizer()),\n",
    "#     (['Overall Qual'], [SimpleImputer(strategy='median'), StandardScaler()]),\n",
    "#     (['Overall Cond'],[SimpleImputer(strategy='median'), StandardScaler()]),\n",
    "#     (['Year Built'], [StandardScaler()]),\n",
    "#     (['Year Remod/Add'],[ StandardScaler()]),\n",
    "#     ('Neighborhood', LabelBinarizer()),\n",
    "#     ('Roof Style', LabelBinarizer()),\n",
    "#     ('Roof Matl', LabelBinarizer()),\n",
    "#     ('Exterior 1st', LabelBinarizer()),\n",
    "#     ('Exterior 2nd', LabelBinarizer()),\n",
    "#     ('Mas Vnr Type',[CategoricalImputer(replacement='None'), LabelBinarizer()]),\n",
    "#     # for masonry veneer, all houses with None for veneer in the dataset have 0 for the veneer area, so we'll do the same here\n",
    "#     (['Mas Vnr Area'], [SimpleImputer(fill_value=0), StandardScaler()]),\n",
    "#     ('Exter Qual', None), #LabelBinarizer()), converted to ranked scale\n",
    "#     ('Exter Cond', None), # LabelBinarizer()), converted to ranked scale\n",
    "#     ('Foundation', LabelBinarizer()),\n",
    "#     ('Bsmt Cond', None), # converted to rank\n",
    "#     ('Bsmt Qual', None), # converted to rank [CategoricalImputer(replacement='None'), LabelBinarizer()]),\n",
    "#     ('Bsmt Exposure',None), #[CategoricalImputer(replacement='None'), LabelBinarizer()]), chagned to ranking\n",
    "#     ('BsmtFin Type 1', None), #[CategoricalImputer(replacement='None'), LabelBinarizer()]),changed to ranking\n",
    "#     (['BsmtFin SF 1'], [SimpleImputer(fill_value=0), StandardScaler()]),\n",
    "#     ('BsmtFin Type 2', None), # [CategoricalImputer(replacement='None'), LabelBinarizer()]), changed to ranking\n",
    "#     (['BsmtFin SF 2'], [SimpleImputer(fill_value=0), StandardScaler()]),\n",
    "#     (['Bsmt Unf SF'], [SimpleImputer(fill_value=0), StandardScaler()]),\n",
    "#     (['Total Bsmt SF'], [SimpleImputer(fill_value=0), StandardScaler()]),\n",
    "#     ('Heating', LabelBinarizer()),\n",
    "#     ('Heating QC', None), # LabelBinarizer()), # chagned to numeric ranking 1-5\n",
    "#     ('Central Air', None), # LabelBinarizer()), # Change to 0/1\n",
    "#     ('Electrical',[CategoricalImputer(replacement='None'), LabelBinarizer()]),\n",
    "#     (['1st Flr SF'], [SimpleImputer(strategy='median'), StandardScaler()]),\n",
    "#     (['2nd Flr SF'], [SimpleImputer(strategy='median'), StandardScaler()]),\n",
    "#     (['Low Qual Fin SF'], [SimpleImputer(fill_value=0), StandardScaler()]),\n",
    "#     (['Gr Liv Area'], [SimpleImputer(strategy='median'), StandardScaler()]),\n",
    "#     (['Bsmt Full Bath'], [SimpleImputer(fill_value=0), StandardScaler()]),\n",
    "#     (['Bsmt Half Bath'], [SimpleImputer(fill_value=0), StandardScaler()]),\n",
    "#     (['Full Bath'], [SimpleImputer(strategy='most_frequent'), StandardScaler()]),\n",
    "#     (['Half Bath'], [SimpleImputer(fill_value=0), StandardScaler()]),\n",
    "#     (['Bedroom AbvGr'], [SimpleImputer(strategy='most_frequent'), StandardScaler()]),\n",
    "#     (['Kitchen AbvGr'], [SimpleImputer(strategy='most_frequent'), StandardScaler()]),\n",
    "#     ('Kitchen Qual', None), #LabelBinarizer()), # changed to numeric ranking 1-5\n",
    "    \n",
    "#     (['TotRms AbvGrd'], [SimpleImputer(strategy='most_frequent'), StandardScaler()]),\n",
    "#     ('Functional', None), # LabelBinarizer()), # added ranking\n",
    "#     (['Fireplaces'], [SimpleImputer(fill_value=0), StandardScaler()]),\n",
    "#     ('Fireplace Qu', None), # [CategoricalImputer(replacement='NA'), LabelBinarizer()]), converted to rank\n",
    "#     ('Garage Type',[CategoricalImputer(replacement='None'), LabelBinarizer()]),\n",
    "#    # (['Garage Yr Blt'], [StandardScaler()]), # TODO: set to year house built if missing\n",
    "#     ('Garage Finish', None), #[CategoricalImputer(replacement='None'), LabelBinarizer()]), converted to rank\n",
    "#  #   (['Garage Cars'],[SimpleImputer(strategy='median'), StandardScaler()]),\n",
    "#     (['Garage Area'], [SimpleImputer(strategy='median'), StandardScaler()]),\n",
    "#     # change to numerical ranking\n",
    "#     #('Garage Qual', [CategoricalImputer(replacement='None'), LabelBinarizer()]),\n",
    "#     #('Garage Cond', [CategoricalImputer(replacement='None'), LabelBinarizer()]),\n",
    "#      ('Garage Qual', None),\n",
    "#     ('Garage Cond', None),  \n",
    "#     ('Paved Drive', None), #LabelBinarizer()), #  change to 0/1\n",
    "#     (['Wood Deck SF'], [SimpleImputer(fill_value=0), StandardScaler()]),\n",
    "#     (['Open Porch SF'], [SimpleImputer(fill_value=0), StandardScaler()]),\n",
    "#     (['Enclosed Porch'], [SimpleImputer(fill_value=0), StandardScaler()]),\n",
    "#     (['3Ssn Porch'], [SimpleImputer(fill_value=0), StandardScaler()]),\n",
    "#     (['Pool Area'], [SimpleImputer(fill_value=0), StandardScaler()]),\n",
    "#     ('Pool QC', None),\n",
    "#     ('Fence', [CategoricalImputer(replacement='None'), LabelBinarizer()]),\n",
    "#     ('Misc Feature', [CategoricalImputer(replacement='None'), LabelBinarizer()]),\n",
    "#     (['Misc Val'], [SimpleImputer(fill_value=0), StandardScaler()]),\n",
    "#     (['Mo Sold'], [StandardScaler()]),\n",
    "#     #(['Mo Sold'], [StandardScaler()]), # month isn't really a ranking -- probably better to bin it\n",
    "#     (['Yr Sold'], [StandardScaler()]),\n",
    "#     ('Sale Type', LabelBinarizer())\n",
    "# ], df_out=True)\n"
   ]
  },
  {
   "cell_type": "code",
   "execution_count": 32,
   "metadata": {},
   "outputs": [],
   "source": [
    "X_train=pre_fix_df(X_train)\n"
   ]
  },
  {
   "cell_type": "code",
   "execution_count": 33,
   "metadata": {},
   "outputs": [
    {
     "name": "stderr",
     "output_type": "stream",
     "text": [
      "C:\\ProgramData\\Anaconda3\\lib\\site-packages\\sklearn\\utils\\validation.py:590: DataConversionWarning: Data with input dtype int64 was converted to float64 by StandardScaler.\n",
      "  warnings.warn(msg, DataConversionWarning)\n",
      "C:\\ProgramData\\Anaconda3\\lib\\site-packages\\sklearn\\utils\\validation.py:590: DataConversionWarning: Data with input dtype int64 was converted to float64 by StandardScaler.\n",
      "  warnings.warn(msg, DataConversionWarning)\n",
      "C:\\ProgramData\\Anaconda3\\lib\\site-packages\\sklearn\\utils\\validation.py:590: DataConversionWarning: Data with input dtype int64 was converted to float64 by StandardScaler.\n",
      "  warnings.warn(msg, DataConversionWarning)\n",
      "C:\\ProgramData\\Anaconda3\\lib\\site-packages\\sklearn\\utils\\validation.py:590: DataConversionWarning: Data with input dtype int64 was converted to float64 by StandardScaler.\n",
      "  warnings.warn(msg, DataConversionWarning)\n",
      "C:\\ProgramData\\Anaconda3\\lib\\site-packages\\sklearn\\utils\\validation.py:590: DataConversionWarning: Data with input dtype int64 was converted to float64 by StandardScaler.\n",
      "  warnings.warn(msg, DataConversionWarning)\n",
      "C:\\ProgramData\\Anaconda3\\lib\\site-packages\\sklearn\\utils\\validation.py:590: DataConversionWarning: Data with input dtype int64 was converted to float64 by StandardScaler.\n",
      "  warnings.warn(msg, DataConversionWarning)\n",
      "C:\\ProgramData\\Anaconda3\\lib\\site-packages\\sklearn\\utils\\validation.py:590: DataConversionWarning: Data with input dtype int64 was converted to float64 by StandardScaler.\n",
      "  warnings.warn(msg, DataConversionWarning)\n",
      "C:\\ProgramData\\Anaconda3\\lib\\site-packages\\sklearn\\utils\\validation.py:590: DataConversionWarning: Data with input dtype int64 was converted to float64 by StandardScaler.\n",
      "  warnings.warn(msg, DataConversionWarning)\n"
     ]
    },
    {
     "data": {
      "text/html": [
       "<div>\n",
       "<style scoped>\n",
       "    .dataframe tbody tr th:only-of-type {\n",
       "        vertical-align: middle;\n",
       "    }\n",
       "\n",
       "    .dataframe tbody tr th {\n",
       "        vertical-align: top;\n",
       "    }\n",
       "\n",
       "    .dataframe thead th {\n",
       "        text-align: right;\n",
       "    }\n",
       "</style>\n",
       "<table border=\"1\" class=\"dataframe\">\n",
       "  <thead>\n",
       "    <tr style=\"text-align: right;\">\n",
       "      <th></th>\n",
       "      <th>MS SubClass_20</th>\n",
       "      <th>MS SubClass_30</th>\n",
       "      <th>MS SubClass_40</th>\n",
       "      <th>MS SubClass_45</th>\n",
       "      <th>MS SubClass_50</th>\n",
       "      <th>MS SubClass_60</th>\n",
       "      <th>MS SubClass_70</th>\n",
       "      <th>MS SubClass_75</th>\n",
       "      <th>MS SubClass_80</th>\n",
       "      <th>MS SubClass_85</th>\n",
       "      <th>...</th>\n",
       "      <th>Yr Sold</th>\n",
       "      <th>Sale Type_COD</th>\n",
       "      <th>Sale Type_CWD</th>\n",
       "      <th>Sale Type_Con</th>\n",
       "      <th>Sale Type_ConLD</th>\n",
       "      <th>Sale Type_ConLI</th>\n",
       "      <th>Sale Type_ConLw</th>\n",
       "      <th>Sale Type_New</th>\n",
       "      <th>Sale Type_Oth</th>\n",
       "      <th>Sale Type_WD</th>\n",
       "    </tr>\n",
       "  </thead>\n",
       "  <tbody>\n",
       "    <tr>\n",
       "      <th>718</th>\n",
       "      <td>1</td>\n",
       "      <td>0</td>\n",
       "      <td>0</td>\n",
       "      <td>0</td>\n",
       "      <td>0</td>\n",
       "      <td>0</td>\n",
       "      <td>0</td>\n",
       "      <td>0</td>\n",
       "      <td>0</td>\n",
       "      <td>0</td>\n",
       "      <td>...</td>\n",
       "      <td>0.197122</td>\n",
       "      <td>0</td>\n",
       "      <td>0</td>\n",
       "      <td>0</td>\n",
       "      <td>0</td>\n",
       "      <td>0</td>\n",
       "      <td>0</td>\n",
       "      <td>0</td>\n",
       "      <td>0</td>\n",
       "      <td>1</td>\n",
       "    </tr>\n",
       "    <tr>\n",
       "      <th>1800</th>\n",
       "      <td>0</td>\n",
       "      <td>0</td>\n",
       "      <td>0</td>\n",
       "      <td>0</td>\n",
       "      <td>0</td>\n",
       "      <td>1</td>\n",
       "      <td>0</td>\n",
       "      <td>0</td>\n",
       "      <td>0</td>\n",
       "      <td>0</td>\n",
       "      <td>...</td>\n",
       "      <td>0.197122</td>\n",
       "      <td>0</td>\n",
       "      <td>0</td>\n",
       "      <td>0</td>\n",
       "      <td>0</td>\n",
       "      <td>0</td>\n",
       "      <td>0</td>\n",
       "      <td>0</td>\n",
       "      <td>0</td>\n",
       "      <td>1</td>\n",
       "    </tr>\n",
       "    <tr>\n",
       "      <th>239</th>\n",
       "      <td>0</td>\n",
       "      <td>0</td>\n",
       "      <td>0</td>\n",
       "      <td>0</td>\n",
       "      <td>1</td>\n",
       "      <td>0</td>\n",
       "      <td>0</td>\n",
       "      <td>0</td>\n",
       "      <td>0</td>\n",
       "      <td>0</td>\n",
       "      <td>...</td>\n",
       "      <td>-1.339832</td>\n",
       "      <td>0</td>\n",
       "      <td>0</td>\n",
       "      <td>0</td>\n",
       "      <td>0</td>\n",
       "      <td>0</td>\n",
       "      <td>0</td>\n",
       "      <td>0</td>\n",
       "      <td>0</td>\n",
       "      <td>1</td>\n",
       "    </tr>\n",
       "    <tr>\n",
       "      <th>741</th>\n",
       "      <td>1</td>\n",
       "      <td>0</td>\n",
       "      <td>0</td>\n",
       "      <td>0</td>\n",
       "      <td>0</td>\n",
       "      <td>0</td>\n",
       "      <td>0</td>\n",
       "      <td>0</td>\n",
       "      <td>0</td>\n",
       "      <td>0</td>\n",
       "      <td>...</td>\n",
       "      <td>-1.339832</td>\n",
       "      <td>0</td>\n",
       "      <td>0</td>\n",
       "      <td>0</td>\n",
       "      <td>0</td>\n",
       "      <td>0</td>\n",
       "      <td>0</td>\n",
       "      <td>0</td>\n",
       "      <td>0</td>\n",
       "      <td>1</td>\n",
       "    </tr>\n",
       "    <tr>\n",
       "      <th>1293</th>\n",
       "      <td>0</td>\n",
       "      <td>0</td>\n",
       "      <td>0</td>\n",
       "      <td>0</td>\n",
       "      <td>0</td>\n",
       "      <td>1</td>\n",
       "      <td>0</td>\n",
       "      <td>0</td>\n",
       "      <td>0</td>\n",
       "      <td>0</td>\n",
       "      <td>...</td>\n",
       "      <td>0.197122</td>\n",
       "      <td>0</td>\n",
       "      <td>0</td>\n",
       "      <td>0</td>\n",
       "      <td>0</td>\n",
       "      <td>0</td>\n",
       "      <td>0</td>\n",
       "      <td>0</td>\n",
       "      <td>0</td>\n",
       "      <td>1</td>\n",
       "    </tr>\n",
       "  </tbody>\n",
       "</table>\n",
       "<p>5 rows × 185 columns</p>\n",
       "</div>"
      ],
      "text/plain": [
       "      MS SubClass_20  MS SubClass_30  MS SubClass_40  MS SubClass_45  \\\n",
       "718                1               0               0               0   \n",
       "1800               0               0               0               0   \n",
       "239                0               0               0               0   \n",
       "741                1               0               0               0   \n",
       "1293               0               0               0               0   \n",
       "\n",
       "      MS SubClass_50  MS SubClass_60  MS SubClass_70  MS SubClass_75  \\\n",
       "718                0               0               0               0   \n",
       "1800               0               1               0               0   \n",
       "239                1               0               0               0   \n",
       "741                0               0               0               0   \n",
       "1293               0               1               0               0   \n",
       "\n",
       "      MS SubClass_80  MS SubClass_85      ...         Yr Sold  Sale Type_COD  \\\n",
       "718                0               0      ...        0.197122              0   \n",
       "1800               0               0      ...        0.197122              0   \n",
       "239                0               0      ...       -1.339832              0   \n",
       "741                0               0      ...       -1.339832              0   \n",
       "1293               0               0      ...        0.197122              0   \n",
       "\n",
       "      Sale Type_CWD  Sale Type_Con  Sale Type_ConLD  Sale Type_ConLI  \\\n",
       "718               0              0                0                0   \n",
       "1800              0              0                0                0   \n",
       "239               0              0                0                0   \n",
       "741               0              0                0                0   \n",
       "1293              0              0                0                0   \n",
       "\n",
       "      Sale Type_ConLw  Sale Type_New  Sale Type_Oth  Sale Type_WD   \n",
       "718                 0              0              0              1  \n",
       "1800                0              0              0              1  \n",
       "239                 0              0              0              1  \n",
       "741                 0              0              0              1  \n",
       "1293                0              0              0              1  \n",
       "\n",
       "[5 rows x 185 columns]"
      ]
     },
     "execution_count": 33,
     "metadata": {},
     "output_type": "execute_result"
    }
   ],
   "source": [
    "X_train=mapper.fit_transform(X_train)\n",
    "#X_train.drop(columns='Id',inplace=True,axis=1)\n",
    "X_train.head()"
   ]
  },
  {
   "cell_type": "markdown",
   "metadata": {},
   "source": [
    "Apply same mapper to our test data"
   ]
  },
  {
   "cell_type": "code",
   "execution_count": 34,
   "metadata": {},
   "outputs": [
    {
     "name": "stderr",
     "output_type": "stream",
     "text": [
      "C:\\ProgramData\\Anaconda3\\lib\\site-packages\\sklearn\\utils\\validation.py:590: DataConversionWarning: Data with input dtype int64 was converted to float64 by StandardScaler.\n",
      "  warnings.warn(msg, DataConversionWarning)\n",
      "C:\\ProgramData\\Anaconda3\\lib\\site-packages\\sklearn\\utils\\validation.py:590: DataConversionWarning: Data with input dtype int64 was converted to float64 by StandardScaler.\n",
      "  warnings.warn(msg, DataConversionWarning)\n",
      "C:\\ProgramData\\Anaconda3\\lib\\site-packages\\sklearn\\utils\\validation.py:590: DataConversionWarning: Data with input dtype int64 was converted to float64 by StandardScaler.\n",
      "  warnings.warn(msg, DataConversionWarning)\n",
      "C:\\ProgramData\\Anaconda3\\lib\\site-packages\\sklearn\\utils\\validation.py:590: DataConversionWarning: Data with input dtype int64 was converted to float64 by StandardScaler.\n",
      "  warnings.warn(msg, DataConversionWarning)\n"
     ]
    },
    {
     "data": {
      "text/html": [
       "<div>\n",
       "<style scoped>\n",
       "    .dataframe tbody tr th:only-of-type {\n",
       "        vertical-align: middle;\n",
       "    }\n",
       "\n",
       "    .dataframe tbody tr th {\n",
       "        vertical-align: top;\n",
       "    }\n",
       "\n",
       "    .dataframe thead th {\n",
       "        text-align: right;\n",
       "    }\n",
       "</style>\n",
       "<table border=\"1\" class=\"dataframe\">\n",
       "  <thead>\n",
       "    <tr style=\"text-align: right;\">\n",
       "      <th></th>\n",
       "      <th>MS SubClass_20</th>\n",
       "      <th>MS SubClass_30</th>\n",
       "      <th>MS SubClass_40</th>\n",
       "      <th>MS SubClass_45</th>\n",
       "      <th>MS SubClass_50</th>\n",
       "      <th>MS SubClass_60</th>\n",
       "      <th>MS SubClass_70</th>\n",
       "      <th>MS SubClass_75</th>\n",
       "      <th>MS SubClass_80</th>\n",
       "      <th>MS SubClass_85</th>\n",
       "      <th>...</th>\n",
       "      <th>Yr Sold</th>\n",
       "      <th>Sale Type_COD</th>\n",
       "      <th>Sale Type_CWD</th>\n",
       "      <th>Sale Type_Con</th>\n",
       "      <th>Sale Type_ConLD</th>\n",
       "      <th>Sale Type_ConLI</th>\n",
       "      <th>Sale Type_ConLw</th>\n",
       "      <th>Sale Type_New</th>\n",
       "      <th>Sale Type_Oth</th>\n",
       "      <th>Sale Type_WD</th>\n",
       "    </tr>\n",
       "  </thead>\n",
       "  <tbody>\n",
       "    <tr>\n",
       "      <th>19</th>\n",
       "      <td>0</td>\n",
       "      <td>0</td>\n",
       "      <td>0</td>\n",
       "      <td>0</td>\n",
       "      <td>0</td>\n",
       "      <td>1</td>\n",
       "      <td>0</td>\n",
       "      <td>0</td>\n",
       "      <td>0</td>\n",
       "      <td>0</td>\n",
       "      <td>...</td>\n",
       "      <td>1.734076</td>\n",
       "      <td>0</td>\n",
       "      <td>0</td>\n",
       "      <td>1</td>\n",
       "      <td>0</td>\n",
       "      <td>0</td>\n",
       "      <td>0</td>\n",
       "      <td>0</td>\n",
       "      <td>0</td>\n",
       "      <td>0</td>\n",
       "    </tr>\n",
       "    <tr>\n",
       "      <th>1999</th>\n",
       "      <td>0</td>\n",
       "      <td>0</td>\n",
       "      <td>0</td>\n",
       "      <td>0</td>\n",
       "      <td>1</td>\n",
       "      <td>0</td>\n",
       "      <td>0</td>\n",
       "      <td>0</td>\n",
       "      <td>0</td>\n",
       "      <td>0</td>\n",
       "      <td>...</td>\n",
       "      <td>-0.571355</td>\n",
       "      <td>0</td>\n",
       "      <td>0</td>\n",
       "      <td>0</td>\n",
       "      <td>0</td>\n",
       "      <td>0</td>\n",
       "      <td>0</td>\n",
       "      <td>0</td>\n",
       "      <td>0</td>\n",
       "      <td>1</td>\n",
       "    </tr>\n",
       "    <tr>\n",
       "      <th>97</th>\n",
       "      <td>1</td>\n",
       "      <td>0</td>\n",
       "      <td>0</td>\n",
       "      <td>0</td>\n",
       "      <td>0</td>\n",
       "      <td>0</td>\n",
       "      <td>0</td>\n",
       "      <td>0</td>\n",
       "      <td>0</td>\n",
       "      <td>0</td>\n",
       "      <td>...</td>\n",
       "      <td>-0.571355</td>\n",
       "      <td>0</td>\n",
       "      <td>0</td>\n",
       "      <td>0</td>\n",
       "      <td>0</td>\n",
       "      <td>0</td>\n",
       "      <td>0</td>\n",
       "      <td>0</td>\n",
       "      <td>0</td>\n",
       "      <td>1</td>\n",
       "    </tr>\n",
       "    <tr>\n",
       "      <th>1032</th>\n",
       "      <td>0</td>\n",
       "      <td>0</td>\n",
       "      <td>0</td>\n",
       "      <td>0</td>\n",
       "      <td>0</td>\n",
       "      <td>1</td>\n",
       "      <td>0</td>\n",
       "      <td>0</td>\n",
       "      <td>0</td>\n",
       "      <td>0</td>\n",
       "      <td>...</td>\n",
       "      <td>0.965599</td>\n",
       "      <td>0</td>\n",
       "      <td>0</td>\n",
       "      <td>0</td>\n",
       "      <td>0</td>\n",
       "      <td>0</td>\n",
       "      <td>0</td>\n",
       "      <td>0</td>\n",
       "      <td>0</td>\n",
       "      <td>1</td>\n",
       "    </tr>\n",
       "    <tr>\n",
       "      <th>1495</th>\n",
       "      <td>1</td>\n",
       "      <td>0</td>\n",
       "      <td>0</td>\n",
       "      <td>0</td>\n",
       "      <td>0</td>\n",
       "      <td>0</td>\n",
       "      <td>0</td>\n",
       "      <td>0</td>\n",
       "      <td>0</td>\n",
       "      <td>0</td>\n",
       "      <td>...</td>\n",
       "      <td>1.734076</td>\n",
       "      <td>0</td>\n",
       "      <td>0</td>\n",
       "      <td>0</td>\n",
       "      <td>0</td>\n",
       "      <td>0</td>\n",
       "      <td>0</td>\n",
       "      <td>0</td>\n",
       "      <td>0</td>\n",
       "      <td>1</td>\n",
       "    </tr>\n",
       "  </tbody>\n",
       "</table>\n",
       "<p>5 rows × 185 columns</p>\n",
       "</div>"
      ],
      "text/plain": [
       "      MS SubClass_20  MS SubClass_30  MS SubClass_40  MS SubClass_45  \\\n",
       "19                 0               0               0               0   \n",
       "1999               0               0               0               0   \n",
       "97                 1               0               0               0   \n",
       "1032               0               0               0               0   \n",
       "1495               1               0               0               0   \n",
       "\n",
       "      MS SubClass_50  MS SubClass_60  MS SubClass_70  MS SubClass_75  \\\n",
       "19                 0               1               0               0   \n",
       "1999               1               0               0               0   \n",
       "97                 0               0               0               0   \n",
       "1032               0               1               0               0   \n",
       "1495               0               0               0               0   \n",
       "\n",
       "      MS SubClass_80  MS SubClass_85      ...         Yr Sold  Sale Type_COD  \\\n",
       "19                 0               0      ...        1.734076              0   \n",
       "1999               0               0      ...       -0.571355              0   \n",
       "97                 0               0      ...       -0.571355              0   \n",
       "1032               0               0      ...        0.965599              0   \n",
       "1495               0               0      ...        1.734076              0   \n",
       "\n",
       "      Sale Type_CWD  Sale Type_Con  Sale Type_ConLD  Sale Type_ConLI  \\\n",
       "19                0              1                0                0   \n",
       "1999              0              0                0                0   \n",
       "97                0              0                0                0   \n",
       "1032              0              0                0                0   \n",
       "1495              0              0                0                0   \n",
       "\n",
       "      Sale Type_ConLw  Sale Type_New  Sale Type_Oth  Sale Type_WD   \n",
       "19                  0              0              0              0  \n",
       "1999                0              0              0              1  \n",
       "97                  0              0              0              1  \n",
       "1032                0              0              0              1  \n",
       "1495                0              0              0              1  \n",
       "\n",
       "[5 rows x 185 columns]"
      ]
     },
     "execution_count": 34,
     "metadata": {},
     "output_type": "execute_result"
    }
   ],
   "source": [
    "X_test=pre_fix_df(X_test)\n",
    "X_test = mapper.transform(X_test)\n",
    "#X_test.drop(columns='Id',inplace=True,axis=1)\n",
    "X_test.head()"
   ]
  },
  {
   "cell_type": "code",
   "execution_count": 35,
   "metadata": {},
   "outputs": [],
   "source": [
    "# double check for nulls\n",
    "for col in X_train.columns:\n",
    "    if X_train[col].isnull().sum() >0:\n",
    "        print(col)"
   ]
  },
  {
   "cell_type": "markdown",
   "metadata": {},
   "source": [
    "## Feature Engineering\n",
    "\n",
    "* There likely certain features that play a much bigger role in the pricing of a house (overall quality, square footage, neighborhood etc) than others (fence quality etc).  Let's try playing with some polynomial feature engineering on the features with the highest correlation with price\n",
    "* but first let's spot check the impact of some of hte categorical variables on price"
   ]
  },
  {
   "cell_type": "code",
   "execution_count": 36,
   "metadata": {},
   "outputs": [
    {
     "data": {
      "text/plain": [
       "Neighborhood_NridgHt    0.378110\n",
       "Neighborhood_NoRidge    0.212223\n",
       "Neighborhood_StoneBr    0.204756\n",
       "Neighborhood_Somerst    0.170267\n",
       "Neighborhood_CollgCr    0.124926\n",
       "Neighborhood_Timber     0.114410\n",
       "Neighborhood_Veenker    0.086411\n",
       "Neighborhood_Crawfor    0.074820\n",
       "Neighborhood_NWAmes     0.073265\n",
       "Neighborhood_ClearCr    0.067311\n",
       "Neighborhood_Gilbert    0.066445\n",
       "Neighborhood_GrnHill    0.042854\n",
       "Neighborhood_SawyerW    0.040894\n",
       "Neighborhood_Blmngtn    0.032802\n",
       "Neighborhood_Greens     0.012019\n",
       "Neighborhood_Mitchel   -0.012340\n",
       "Neighborhood_Landmrk   -0.012460\n",
       "Neighborhood_Blueste   -0.023878\n",
       "Neighborhood_NPkVill   -0.035459\n",
       "Neighborhood_SWISU     -0.083332\n",
       "Neighborhood_MeadowV   -0.113294\n",
       "Neighborhood_BrDale    -0.115791\n",
       "Neighborhood_Sawyer    -0.119071\n",
       "Neighborhood_NAmes     -0.155250\n",
       "Neighborhood_BrkSide   -0.171960\n",
       "Neighborhood_Edwards   -0.220611\n",
       "Neighborhood_OldTown   -0.244881\n",
       "Neighborhood_IDOTRR    -0.256044\n",
       "dtype: float64"
      ]
     },
     "execution_count": 36,
     "metadata": {},
     "output_type": "execute_result"
    }
   ],
   "source": [
    "\n",
    "filter_col = [col for col in X_train if col.startswith('Neighborhood')]\n",
    "X_train[filter_col].corrwith(y_train).sort_values(ascending=False)"
   ]
  },
  {
   "cell_type": "code",
   "execution_count": 37,
   "metadata": {},
   "outputs": [
    {
     "data": {
      "text/plain": [
       "MS SubClass_60     0.375497\n",
       "MS SubClass_120    0.133821\n",
       "MS SubClass_20     0.066047\n",
       "MS SubClass_75     0.019337\n",
       "MS SubClass_80    -0.000331\n",
       "MS SubClass_150   -0.007569\n",
       "MS SubClass_85    -0.027085\n",
       "MS SubClass_40    -0.045686\n",
       "MS SubClass_45    -0.047847\n",
       "MS SubClass_180   -0.061897\n",
       "MS SubClass_70    -0.079493\n",
       "MS SubClass_90    -0.098280\n",
       "MS SubClass_190   -0.105547\n",
       "MS SubClass_160   -0.107884\n",
       "MS SubClass_50    -0.195250\n",
       "MS SubClass_30    -0.340250\n",
       "dtype: float64"
      ]
     },
     "execution_count": 37,
     "metadata": {},
     "output_type": "execute_result"
    }
   ],
   "source": [
    "\n",
    "filter_col = [col for col in X_train if col.startswith('MS SubClass')]\n",
    "X_train[filter_col].corrwith(y_train).sort_values(ascending=False)"
   ]
  },
  {
   "cell_type": "code",
   "execution_count": 38,
   "metadata": {},
   "outputs": [
    {
     "data": {
      "text/plain": [
       "MS Zoning_RL         0.264351\n",
       "MS Zoning_FV         0.127249\n",
       "MS Zoning_RH        -0.035396\n",
       "MS Zoning_I (all)   -0.065458\n",
       "MS Zoning_A (agr)   -0.141717\n",
       "MS Zoning_C (all)   -0.195090\n",
       "MS Zoning_RM        -0.314257\n",
       "dtype: float64"
      ]
     },
     "execution_count": 38,
     "metadata": {},
     "output_type": "execute_result"
    }
   ],
   "source": [
    "\n",
    "filter_col = [col for col in X_train if col.startswith('MS Zoning')]\n",
    "X_train[filter_col].corrwith(y_train).sort_values(ascending=False)"
   ]
  },
  {
   "cell_type": "code",
   "execution_count": 39,
   "metadata": {},
   "outputs": [],
   "source": [
    "def add_polynomialfeatures(df):\n",
    "    poly = PolynomialFeatures(include_bias=False, degree=2)\n",
    "    features = ['Overall Qual', 'Gr Liv Area', 'Total Bsmt SF','Garage Area','1st Flr SF','Year Built','Full Bath']\n",
    "    X_poly = poly.fit_transform(df[features])\n",
    "    poly_df = pd.DataFrame(X_poly, columns=poly.get_feature_names(features))\n",
    "    # drop the original columns so we can concatenate this with our original dataframe\n",
    "    poly_df.drop(columns=features, axis=1, inplace=True)\n",
    "    newcols = poly_df.columns\n",
    "    #print(list(newcols))\n",
    "    #df[list(newcols)] = poly_df[newcols].values\n",
    "    for col in newcols:\n",
    "        df[col] = poly_df[col].values\n",
    "    return df"
   ]
  },
  {
   "cell_type": "code",
   "execution_count": 40,
   "metadata": {},
   "outputs": [],
   "source": [
    "X_train=add_polynomialfeatures(X_train)\n",
    "X_test=add_polynomialfeatures(X_test)"
   ]
  },
  {
   "cell_type": "code",
   "execution_count": 41,
   "metadata": {},
   "outputs": [
    {
     "data": {
      "text/plain": [
       "Index(['MS SubClass_20', 'MS SubClass_30', 'MS SubClass_40', 'MS SubClass_45',\n",
       "       'MS SubClass_50', 'MS SubClass_60', 'MS SubClass_70', 'MS SubClass_75',\n",
       "       'MS SubClass_80', 'MS SubClass_85',\n",
       "       ...\n",
       "       'Garage Area^2', 'Garage Area 1st Flr SF', 'Garage Area Year Built',\n",
       "       'Garage Area Full Bath', '1st Flr SF^2', '1st Flr SF Year Built',\n",
       "       '1st Flr SF Full Bath', 'Year Built^2', 'Year Built Full Bath',\n",
       "       'Full Bath^2'],\n",
       "      dtype='object', length=213)"
      ]
     },
     "execution_count": 41,
     "metadata": {},
     "output_type": "execute_result"
    }
   ],
   "source": [
    "X_train.columns"
   ]
  },
  {
   "cell_type": "code",
   "execution_count": null,
   "metadata": {},
   "outputs": [],
   "source": []
  },
  {
   "cell_type": "markdown",
   "metadata": {},
   "source": [
    "## Feature Selection"
   ]
  },
  {
   "cell_type": "code",
   "execution_count": 42,
   "metadata": {},
   "outputs": [
    {
     "data": {
      "text/plain": [
       "(1536, 213)"
      ]
     },
     "execution_count": 42,
     "metadata": {},
     "output_type": "execute_result"
    }
   ],
   "source": [
    "X_train.shape"
   ]
  },
  {
   "cell_type": "markdown",
   "metadata": {},
   "source": [
    "Test 1 : variance threshold"
   ]
  },
  {
   "cell_type": "code",
   "execution_count": 43,
   "metadata": {},
   "outputs": [],
   "source": [
    "if run_full:\n",
    "    threshold = VarianceThreshold(.05)\n",
    "    X_threshold = threshold.fit_transform(X_train)\n",
    "    X_threshold.shape\n"
   ]
  },
  {
   "cell_type": "code",
   "execution_count": 44,
   "metadata": {},
   "outputs": [
    {
     "name": "stdout",
     "output_type": "stream",
     "text": [
      "0.9021519356061021\n"
     ]
    }
   ],
   "source": [
    "if run_full:\n",
    "    # score it for comparison\n",
    "    included = X_train.columns[threshold.get_support()]\n",
    "    print(cross_val_score(LinearRegression(), X_train.loc[:,included], y_train, cv=5).mean())"
   ]
  },
  {
   "cell_type": "markdown",
   "metadata": {},
   "source": [
    "Test2 : select K best"
   ]
  },
  {
   "cell_type": "code",
   "execution_count": 45,
   "metadata": {},
   "outputs": [
    {
     "name": "stdout",
     "output_type": "stream",
     "text": [
      "50 0.88748\n",
      "70 0.89679\n",
      "75 0.89799\n",
      "80 0.89919\n",
      "85 0.89827\n",
      "90 0.8951\n",
      "95 0.89645\n",
      "100 0.89767\n",
      "125 0.9035\n",
      "130 0.9022\n",
      "150 -9.613271922481239e+21\n"
     ]
    }
   ],
   "source": [
    "#for k in [50,75,100,125,150,175,200,225, 250]:\n",
    "for k in [50,70, 75, 80, 85, 90, 95,100,125,130, 150]:\n",
    "    kbest = SelectKBest(score_func=f_regression, k=k)\n",
    "    X_kbest = kbest.fit_transform(X_train, y_train)\n",
    "    included = X_train.columns[kbest.get_support()]\n",
    "    print(k, round(cross_val_score(LinearRegression(), X_train.loc[:,included], y_train, cv=5).mean(),5))\n",
    "    #print(k,cross_val_score(LinearRegression(), X_train.loc[:,included], y_train, cv=5))\n"
   ]
  },
  {
   "cell_type": "markdown",
   "metadata": {},
   "source": [
    "Test 3: K Precentile"
   ]
  },
  {
   "cell_type": "code",
   "execution_count": 46,
   "metadata": {},
   "outputs": [],
   "source": [
    "if run_full:\n",
    "    percent = SelectPercentile(f_regression, 30)\n",
    "    X_percent = percent.fit_transform(X_train, y_train)\n",
    "    X_percent.shape\n",
    "    "
   ]
  },
  {
   "cell_type": "code",
   "execution_count": 47,
   "metadata": {},
   "outputs": [
    {
     "name": "stdout",
     "output_type": "stream",
     "text": [
      "0.8900089568011597\n"
     ]
    }
   ],
   "source": [
    "# score it for comparison\n",
    "if run_full:\n",
    "    included = X_train.columns[percent.get_support()]\n",
    "    print(cross_val_score(LinearRegression(), X_train.loc[:,included], y_train, cv=5).mean())"
   ]
  },
  {
   "cell_type": "markdown",
   "metadata": {},
   "source": [
    "Test 4: select from Model"
   ]
  },
  {
   "cell_type": "code",
   "execution_count": 48,
   "metadata": {},
   "outputs": [],
   "source": [
    "if run_full:\n",
    "    select_lasso = SelectFromModel(Lasso(alpha=.001))\n",
    "    X_sel_lasso = select_lasso.fit_transform(X_train, y_train)\n",
    "    X_sel_lasso.shape\n",
    "    "
   ]
  },
  {
   "cell_type": "code",
   "execution_count": 49,
   "metadata": {},
   "outputs": [
    {
     "name": "stdout",
     "output_type": "stream",
     "text": [
      "0.9196160757209194\n"
     ]
    }
   ],
   "source": [
    "if run_full:\n",
    "    # score it for comparison\n",
    "    included = X_train.columns[select_lasso.get_support()]\n",
    "    print(cross_val_score(LinearRegression(), X_train.loc[:,included], y_train, cv=5).mean())"
   ]
  },
  {
   "cell_type": "code",
   "execution_count": 50,
   "metadata": {},
   "outputs": [
    {
     "name": "stdout",
     "output_type": "stream",
     "text": [
      "0.001 0.91962\n",
      "0.01 0.90081\n",
      "0.1 0.77108\n"
     ]
    }
   ],
   "source": [
    "for alpha in [.001, .01, .1]:\n",
    "    select_lasso = SelectFromModel(Lasso(alpha=alpha))\n",
    "    X_sel_lasso = select_lasso.fit_transform(X_train, y_train)\n",
    "    included = X_train.columns[select_lasso.get_support()]\n",
    "    print(alpha, round(cross_val_score(LinearRegression(), X_train.loc[:,included], y_train, cv=5).mean(),5))\n",
    "    #print(alpha, round(cross_val_score(KNeighborsRegressor(n_neighbors=8, metric='manhattan',weights='distance'), X_train.loc[:,included], y_train, cv=5).mean(),5))\n",
    "   # print(alpha, cross_val_score(KNeighborsRegressor(n_neighbors=8, metric='manhattan',weights='distance'), X_train.loc[:,included], y_train, cv=5))\n",
    "    #print(alpha,cross_val_score(LinearRegression(), X_train.loc[:,included], y_train, cv=5))"
   ]
  },
  {
   "cell_type": "code",
   "execution_count": null,
   "metadata": {},
   "outputs": [],
   "source": []
  },
  {
   "cell_type": "markdown",
   "metadata": {},
   "source": [
    "Test 5: RFECV"
   ]
  },
  {
   "cell_type": "code",
   "execution_count": 51,
   "metadata": {},
   "outputs": [],
   "source": [
    "if run_full:\n",
    "    rfe = RFECV(Lasso(alpha=.001), step=10,cv=5, min_features_to_select=50) #,verbose=2)\n",
    "    X_rfe = rfe.fit_transform(X_train, y_train)\n",
    "    X_rfe.shape\n"
   ]
  },
  {
   "cell_type": "code",
   "execution_count": 52,
   "metadata": {},
   "outputs": [
    {
     "name": "stdout",
     "output_type": "stream",
     "text": [
      "0.9192758800218062\n",
      "(1536, 93)\n"
     ]
    }
   ],
   "source": [
    "if run_full:\n",
    "    # score it for comparison\n",
    "    included = X_train.columns[rfe.get_support()]\n",
    "    print(cross_val_score(LinearRegression(), X_train.loc[:,included], y_train, cv=5).mean())\n",
    "    #print(rfe.get_support().shape)\n",
    "    print(X_train.loc[:,rfe.get_support()].shape)"
   ]
  },
  {
   "cell_type": "markdown",
   "metadata": {},
   "source": [
    "#### Best Feature selection model\n",
    "* depending on the changes made, generally either the KBest or Lasso models are producing the best results "
   ]
  },
  {
   "cell_type": "code",
   "execution_count": 53,
   "metadata": {},
   "outputs": [],
   "source": [
    "kbest = SelectKBest(score_func=f_regression, k=100)\n",
    "X_kbest = kbest.fit_transform(X_train, y_train)\n",
    "X_kbest.shape\n",
    "selected_features=kbest.get_support()"
   ]
  },
  {
   "cell_type": "code",
   "execution_count": 54,
   "metadata": {},
   "outputs": [],
   "source": [
    "# select_lasso = SelectFromModel(Lasso(alpha=.001))\n",
    "# X_sel_lasso = select_lasso.fit_transform(X_train, y_train)\n",
    "# selected_features=select_lasso.get_support()"
   ]
  },
  {
   "cell_type": "code",
   "execution_count": 55,
   "metadata": {},
   "outputs": [
    {
     "data": {
      "text/plain": [
       "Index(['MS SubClass_30', 'MS SubClass_50', 'MS SubClass_60', 'MS SubClass_120',\n",
       "       'MS Zoning_A (agr)', 'MS Zoning_C (all)', 'MS Zoning_FV',\n",
       "       'MS Zoning_RL', 'MS Zoning_RM', 'Lot Frontage'],\n",
       "      dtype='object')"
      ]
     },
     "execution_count": 55,
     "metadata": {},
     "output_type": "execute_result"
    }
   ],
   "source": [
    "# preview selected columns\n",
    "X_train.columns[selected_features][:10]"
   ]
  },
  {
   "cell_type": "markdown",
   "metadata": {},
   "source": [
    "#### Try GridSearch on KNN Regression to find best parameters"
   ]
  },
  {
   "cell_type": "code",
   "execution_count": 56,
   "metadata": {
    "scrolled": true
   },
   "outputs": [],
   "source": [
    "# knn_params = {\n",
    "#     'n_neighbors':[8,9,10,11,12,13],\n",
    "#     'weights':['uniform','distance'],\n",
    "#     'metric':['euclidean','manhattan']\n",
    "# }\n",
    "# #5,10,15,20,25\n",
    "# knn_gridsearch = GridSearchCV(KNeighborsRegressor(), knn_params, cv=5, verbose=1, n_jobs=2)\n",
    "\n",
    "# knn_gridsearch = knn_gridsearch.fit(X_train.loc[:,included], y_train)"
   ]
  },
  {
   "cell_type": "code",
   "execution_count": 57,
   "metadata": {},
   "outputs": [],
   "source": [
    "# knn_gridsearch.best_score_"
   ]
  },
  {
   "cell_type": "code",
   "execution_count": 58,
   "metadata": {
    "scrolled": true
   },
   "outputs": [],
   "source": [
    "# knn_gridsearch.best_params_"
   ]
  },
  {
   "cell_type": "markdown",
   "metadata": {},
   "source": [
    "## Run Selected Model"
   ]
  },
  {
   "cell_type": "code",
   "execution_count": 59,
   "metadata": {},
   "outputs": [
    {
     "name": "stdout",
     "output_type": "stream",
     "text": [
      "LinearRegression\n",
      "0.9008110821673151\n"
     ]
    }
   ],
   "source": [
    "print(chosen_model)\n",
    "if chosen_model == \"LinearRegression\":\n",
    "    model = LinearRegression()\n",
    "    model.fit(X_train.loc[:,selected_features],y_train)\n",
    "    print(model.score(X_test.loc[:,selected_features], y_test))\n",
    "else:\n",
    "    model=KNeighborsRegressor(n_neighbors=8, metric='manhattan',weights='distance')\n",
    "    model.fit(X_train.loc[:,selected_features],y_train)\n",
    "    print(model.score(X_test.loc[:,selected_features], y_test))"
   ]
  },
  {
   "cell_type": "code",
   "execution_count": null,
   "metadata": {},
   "outputs": [],
   "source": []
  },
  {
   "cell_type": "code",
   "execution_count": null,
   "metadata": {},
   "outputs": [],
   "source": []
  },
  {
   "cell_type": "markdown",
   "metadata": {},
   "source": [
    "Let's examine our coefficients to get an idea of what's going on"
   ]
  },
  {
   "cell_type": "code",
   "execution_count": 60,
   "metadata": {},
   "outputs": [
    {
     "name": "stdout",
     "output_type": "stream",
     "text": [
      "                        weight\n",
      "Overall Qual          0.144035\n",
      "Sale Type_New         0.102626\n",
      "Mas Vnr Type_Stone    0.084274\n",
      "MS SubClass_50        0.071151\n",
      "Central Air           0.068019\n",
      "Gr Liv Area           0.066868\n",
      "Total Bsmt SF         0.061818\n",
      "Garage Type_Detchd    0.059740\n",
      "Mas Vnr Type_None     0.053381\n",
      "Neighborhood_StoneBr  0.053250\n",
      "Paved Drive           0.053226\n",
      "Mas Vnr Type_BrkFace  0.050473\n",
      "Functional            0.050193\n",
      "2nd Flr SF            0.048114\n",
      "Sale Type_WD          0.047586\n",
      "Garage Type_Attchd    0.045792\n",
      "Lot Config_CulDSac    0.039290\n",
      "Garage Type_BuiltIn   0.039030\n",
      "MS SubClass_60        0.038963\n",
      "1st Flr SF            0.036404\n"
     ]
    }
   ],
   "source": [
    "if chosen_model == \"LinearRegression\":\n",
    "    df_model_coef = pd.DataFrame(model.coef_, \n",
    "                 index = X_test.loc[:,selected_features].columns, \n",
    "                 columns=['weight'])\n",
    "\n",
    "    # remember these are all scaled\n",
    "    # but shows relative importance\n",
    "    df_model_coef.sort_values(by='weight', ascending=False, inplace=True)\n",
    "    print(df_model_coef.head(20))"
   ]
  },
  {
   "cell_type": "markdown",
   "metadata": {},
   "source": [
    "### Evalulate our model"
   ]
  },
  {
   "cell_type": "code",
   "execution_count": 61,
   "metadata": {},
   "outputs": [],
   "source": [
    "y_pred= model.predict(X_test.loc[:,selected_features])"
   ]
  },
  {
   "cell_type": "code",
   "execution_count": 62,
   "metadata": {
    "scrolled": true
   },
   "outputs": [
    {
     "name": "stdout",
     "output_type": "stream",
     "text": [
      "492632403.9868107\n"
     ]
    }
   ],
   "source": [
    "# Mean Squared Error MSE\n",
    "if do_logtransform_price:\n",
    "    print(mean_squared_error(np.exp(y_test) -1, np.exp(y_pred) -1))\n",
    "else:\n",
    "    print(mean_squared_error(y_test, y_pred))\n"
   ]
  },
  {
   "cell_type": "code",
   "execution_count": 63,
   "metadata": {},
   "outputs": [
    {
     "name": "stdout",
     "output_type": "stream",
     "text": [
      "22195.32392164644\n"
     ]
    }
   ],
   "source": [
    "# RMSE\n",
    "\n",
    "if do_logtransform_price:\n",
    "    print(np.sqrt(mean_squared_error(np.exp(y_test) -1, np.exp(y_pred) -1)))\n",
    "else:\n",
    "    print(np.sqrt(mean_squared_error(y_test, y_pred)))"
   ]
  },
  {
   "cell_type": "markdown",
   "metadata": {},
   "source": [
    "* root mean squared error returns our error back to our original units of y (cost)\n",
    "* so, if RMSE is 25740, that means our average mistake in house price is $25,740"
   ]
  },
  {
   "cell_type": "code",
   "execution_count": 64,
   "metadata": {},
   "outputs": [
    {
     "data": {
      "text/plain": [
       "Text(0,0.5,'preds')"
      ]
     },
     "execution_count": 64,
     "metadata": {},
     "output_type": "execute_result"
    },
    {
     "data": {
      "image/png": "[encoded data removed]",
      "text/plain": [
       "<Figure size 432x288 with 1 Axes>"
      ]
     },
     "metadata": {
      "needs_background": "light"
     },
     "output_type": "display_data"
    }
   ],
   "source": [
    "\n",
    "if do_logtransform_price:\n",
    "    plt.scatter(np.exp(y_test) -1, np.exp(y_pred) -1)\n",
    "else:\n",
    "    plt.scatter(y_test, y_pred)\n",
    "plt.xlabel(\"actuals\")\n",
    "plt.ylabel(\"preds\")\n",
    "# we are underpredicting at the high end"
   ]
  },
  {
   "cell_type": "code",
   "execution_count": 65,
   "metadata": {},
   "outputs": [
    {
     "data": {
      "text/plain": [
       "Text(0.5,1,'Residual plot')"
      ]
     },
     "execution_count": 65,
     "metadata": {},
     "output_type": "execute_result"
    },
    {
     "data": {
      "image/png": "[encoded data removed]",
      "text/plain": [
       "<Figure size 432x288 with 1 Axes>"
      ]
     },
     "metadata": {
      "needs_background": "light"
     },
     "output_type": "display_data"
    }
   ],
   "source": [
    "# residual plot\n",
    "if do_logtransform_price:\n",
    "    x_plot = plt.scatter(np.exp(y_pred) -1, ((np.exp(y_pred) -1) - (np.exp(y_test)-1)), c='b')\n",
    "else:\n",
    "    x_plot = plt.scatter(y_pred, (y_pred - y_test), c='b')\n",
    "plt.hlines(y=0, xmin= -1000, xmax=1000)\n",
    "plt.title('Residual plot')\n",
    "# see more clearly that we are underpredicting\n"
   ]
  },
  {
   "cell_type": "markdown",
   "metadata": {},
   "source": [
    "* Residual plot has been showing some signs of “heteroscedasticity”, meaning that the residuals are larger for more expensive houses"
   ]
  },
  {
   "cell_type": "markdown",
   "metadata": {},
   "source": [
    "# Generate our predictions"
   ]
  },
  {
   "cell_type": "markdown",
   "metadata": {},
   "source": [
    "* read and transform the test.csv dataset following same steps applied to training file\n",
    "* save the id column to a separate dataframe for outputing our predictions"
   ]
  },
  {
   "cell_type": "code",
   "execution_count": 66,
   "metadata": {},
   "outputs": [
    {
     "data": {
      "text/html": [
       "<div>\n",
       "<style scoped>\n",
       "    .dataframe tbody tr th:only-of-type {\n",
       "        vertical-align: middle;\n",
       "    }\n",
       "\n",
       "    .dataframe tbody tr th {\n",
       "        vertical-align: top;\n",
       "    }\n",
       "\n",
       "    .dataframe thead th {\n",
       "        text-align: right;\n",
       "    }\n",
       "</style>\n",
       "<table border=\"1\" class=\"dataframe\">\n",
       "  <thead>\n",
       "    <tr style=\"text-align: right;\">\n",
       "      <th></th>\n",
       "      <th>Id</th>\n",
       "    </tr>\n",
       "  </thead>\n",
       "  <tbody>\n",
       "    <tr>\n",
       "      <th>0</th>\n",
       "      <td>2658</td>\n",
       "    </tr>\n",
       "    <tr>\n",
       "      <th>1</th>\n",
       "      <td>2718</td>\n",
       "    </tr>\n",
       "    <tr>\n",
       "      <th>2</th>\n",
       "      <td>2414</td>\n",
       "    </tr>\n",
       "    <tr>\n",
       "      <th>3</th>\n",
       "      <td>1989</td>\n",
       "    </tr>\n",
       "    <tr>\n",
       "      <th>4</th>\n",
       "      <td>625</td>\n",
       "    </tr>\n",
       "  </tbody>\n",
       "</table>\n",
       "</div>"
      ],
      "text/plain": [
       "     Id\n",
       "0  2658\n",
       "1  2718\n",
       "2  2414\n",
       "3  1989\n",
       "4   625"
      ]
     },
     "execution_count": 66,
     "metadata": {},
     "output_type": "execute_result"
    }
   ],
   "source": [
    "df_final_validate = pd.read_csv(\"test.csv\")\n",
    "df_final_preds = df_final_validate[['Id']]\n",
    "df_final_preds.head()"
   ]
  },
  {
   "cell_type": "code",
   "execution_count": 67,
   "metadata": {},
   "outputs": [
    {
     "name": "stderr",
     "output_type": "stream",
     "text": [
      "C:\\ProgramData\\Anaconda3\\lib\\site-packages\\sklearn\\utils\\validation.py:590: DataConversionWarning: Data with input dtype int64 was converted to float64 by StandardScaler.\n",
      "  warnings.warn(msg, DataConversionWarning)\n",
      "C:\\ProgramData\\Anaconda3\\lib\\site-packages\\sklearn\\utils\\validation.py:590: DataConversionWarning: Data with input dtype int64 was converted to float64 by StandardScaler.\n",
      "  warnings.warn(msg, DataConversionWarning)\n",
      "C:\\ProgramData\\Anaconda3\\lib\\site-packages\\sklearn\\utils\\validation.py:590: DataConversionWarning: Data with input dtype int64 was converted to float64 by StandardScaler.\n",
      "  warnings.warn(msg, DataConversionWarning)\n",
      "C:\\ProgramData\\Anaconda3\\lib\\site-packages\\sklearn\\utils\\validation.py:590: DataConversionWarning: Data with input dtype int64 was converted to float64 by StandardScaler.\n",
      "  warnings.warn(msg, DataConversionWarning)\n"
     ]
    },
    {
     "data": {
      "text/html": [
       "<div>\n",
       "<style scoped>\n",
       "    .dataframe tbody tr th:only-of-type {\n",
       "        vertical-align: middle;\n",
       "    }\n",
       "\n",
       "    .dataframe tbody tr th {\n",
       "        vertical-align: top;\n",
       "    }\n",
       "\n",
       "    .dataframe thead th {\n",
       "        text-align: right;\n",
       "    }\n",
       "</style>\n",
       "<table border=\"1\" class=\"dataframe\">\n",
       "  <thead>\n",
       "    <tr style=\"text-align: right;\">\n",
       "      <th></th>\n",
       "      <th>MS SubClass_20</th>\n",
       "      <th>MS SubClass_30</th>\n",
       "      <th>MS SubClass_40</th>\n",
       "      <th>MS SubClass_45</th>\n",
       "      <th>MS SubClass_50</th>\n",
       "      <th>MS SubClass_60</th>\n",
       "      <th>MS SubClass_70</th>\n",
       "      <th>MS SubClass_75</th>\n",
       "      <th>MS SubClass_80</th>\n",
       "      <th>MS SubClass_85</th>\n",
       "      <th>...</th>\n",
       "      <th>Garage Area^2</th>\n",
       "      <th>Garage Area 1st Flr SF</th>\n",
       "      <th>Garage Area Year Built</th>\n",
       "      <th>Garage Area Full Bath</th>\n",
       "      <th>1st Flr SF^2</th>\n",
       "      <th>1st Flr SF Year Built</th>\n",
       "      <th>1st Flr SF Full Bath</th>\n",
       "      <th>Year Built^2</th>\n",
       "      <th>Year Built Full Bath</th>\n",
       "      <th>Full Bath^2</th>\n",
       "    </tr>\n",
       "  </thead>\n",
       "  <tbody>\n",
       "    <tr>\n",
       "      <th>0</th>\n",
       "      <td>0</td>\n",
       "      <td>0</td>\n",
       "      <td>0</td>\n",
       "      <td>0</td>\n",
       "      <td>0</td>\n",
       "      <td>0</td>\n",
       "      <td>0</td>\n",
       "      <td>0</td>\n",
       "      <td>0</td>\n",
       "      <td>0</td>\n",
       "      <td>...</td>\n",
       "      <td>0.029124</td>\n",
       "      <td>0.115755</td>\n",
       "      <td>0.352971</td>\n",
       "      <td>-0.341316</td>\n",
       "      <td>0.460075</td>\n",
       "      <td>1.402899</td>\n",
       "      <td>-1.356577</td>\n",
       "      <td>4.277833</td>\n",
       "      <td>-4.136585</td>\n",
       "      <td>4.0</td>\n",
       "    </tr>\n",
       "    <tr>\n",
       "      <th>1</th>\n",
       "      <td>0</td>\n",
       "      <td>0</td>\n",
       "      <td>0</td>\n",
       "      <td>0</td>\n",
       "      <td>0</td>\n",
       "      <td>0</td>\n",
       "      <td>0</td>\n",
       "      <td>0</td>\n",
       "      <td>0</td>\n",
       "      <td>0</td>\n",
       "      <td>...</td>\n",
       "      <td>0.228514</td>\n",
       "      <td>1.024983</td>\n",
       "      <td>0.078815</td>\n",
       "      <td>0.956063</td>\n",
       "      <td>4.597482</td>\n",
       "      <td>0.353520</td>\n",
       "      <td>4.288348</td>\n",
       "      <td>0.027184</td>\n",
       "      <td>0.329750</td>\n",
       "      <td>4.0</td>\n",
       "    </tr>\n",
       "    <tr>\n",
       "      <th>2</th>\n",
       "      <td>0</td>\n",
       "      <td>0</td>\n",
       "      <td>0</td>\n",
       "      <td>0</td>\n",
       "      <td>0</td>\n",
       "      <td>1</td>\n",
       "      <td>0</td>\n",
       "      <td>0</td>\n",
       "      <td>0</td>\n",
       "      <td>0</td>\n",
       "      <td>...</td>\n",
       "      <td>0.055473</td>\n",
       "      <td>0.312922</td>\n",
       "      <td>-0.266492</td>\n",
       "      <td>-0.471054</td>\n",
       "      <td>1.765180</td>\n",
       "      <td>-1.503272</td>\n",
       "      <td>-2.657202</td>\n",
       "      <td>1.280224</td>\n",
       "      <td>2.262939</td>\n",
       "      <td>4.0</td>\n",
       "    </tr>\n",
       "    <tr>\n",
       "      <th>3</th>\n",
       "      <td>0</td>\n",
       "      <td>1</td>\n",
       "      <td>0</td>\n",
       "      <td>0</td>\n",
       "      <td>0</td>\n",
       "      <td>0</td>\n",
       "      <td>0</td>\n",
       "      <td>0</td>\n",
       "      <td>0</td>\n",
       "      <td>0</td>\n",
       "      <td>...</td>\n",
       "      <td>0.000216</td>\n",
       "      <td>-0.007611</td>\n",
       "      <td>-0.024005</td>\n",
       "      <td>0.014682</td>\n",
       "      <td>0.268713</td>\n",
       "      <td>0.847540</td>\n",
       "      <td>-0.518376</td>\n",
       "      <td>2.673196</td>\n",
       "      <td>-1.634991</td>\n",
       "      <td>1.0</td>\n",
       "    </tr>\n",
       "    <tr>\n",
       "      <th>4</th>\n",
       "      <td>1</td>\n",
       "      <td>0</td>\n",
       "      <td>0</td>\n",
       "      <td>0</td>\n",
       "      <td>0</td>\n",
       "      <td>0</td>\n",
       "      <td>0</td>\n",
       "      <td>0</td>\n",
       "      <td>0</td>\n",
       "      <td>0</td>\n",
       "      <td>...</td>\n",
       "      <td>0.029660</td>\n",
       "      <td>0.106261</td>\n",
       "      <td>-0.051969</td>\n",
       "      <td>0.172221</td>\n",
       "      <td>0.380696</td>\n",
       "      <td>-0.186186</td>\n",
       "      <td>0.617006</td>\n",
       "      <td>0.091057</td>\n",
       "      <td>-0.301757</td>\n",
       "      <td>1.0</td>\n",
       "    </tr>\n",
       "  </tbody>\n",
       "</table>\n",
       "<p>5 rows × 213 columns</p>\n",
       "</div>"
      ],
      "text/plain": [
       "   MS SubClass_20  MS SubClass_30  MS SubClass_40  MS SubClass_45  \\\n",
       "0               0               0               0               0   \n",
       "1               0               0               0               0   \n",
       "2               0               0               0               0   \n",
       "3               0               1               0               0   \n",
       "4               1               0               0               0   \n",
       "\n",
       "   MS SubClass_50  MS SubClass_60  MS SubClass_70  MS SubClass_75  \\\n",
       "0               0               0               0               0   \n",
       "1               0               0               0               0   \n",
       "2               0               1               0               0   \n",
       "3               0               0               0               0   \n",
       "4               0               0               0               0   \n",
       "\n",
       "   MS SubClass_80  MS SubClass_85     ...       Garage Area^2  \\\n",
       "0               0               0     ...            0.029124   \n",
       "1               0               0     ...            0.228514   \n",
       "2               0               0     ...            0.055473   \n",
       "3               0               0     ...            0.000216   \n",
       "4               0               0     ...            0.029660   \n",
       "\n",
       "   Garage Area 1st Flr SF  Garage Area Year Built  Garage Area Full Bath  \\\n",
       "0                0.115755                0.352971              -0.341316   \n",
       "1                1.024983                0.078815               0.956063   \n",
       "2                0.312922               -0.266492              -0.471054   \n",
       "3               -0.007611               -0.024005               0.014682   \n",
       "4                0.106261               -0.051969               0.172221   \n",
       "\n",
       "   1st Flr SF^2  1st Flr SF Year Built  1st Flr SF Full Bath  Year Built^2  \\\n",
       "0      0.460075               1.402899             -1.356577      4.277833   \n",
       "1      4.597482               0.353520              4.288348      0.027184   \n",
       "2      1.765180              -1.503272             -2.657202      1.280224   \n",
       "3      0.268713               0.847540             -0.518376      2.673196   \n",
       "4      0.380696              -0.186186              0.617006      0.091057   \n",
       "\n",
       "   Year Built Full Bath  Full Bath^2  \n",
       "0             -4.136585          4.0  \n",
       "1              0.329750          4.0  \n",
       "2              2.262939          4.0  \n",
       "3             -1.634991          1.0  \n",
       "4             -0.301757          1.0  \n",
       "\n",
       "[5 rows x 213 columns]"
      ]
     },
     "execution_count": 67,
     "metadata": {},
     "output_type": "execute_result"
    }
   ],
   "source": [
    "\n",
    "df_final_validate=pre_fix_df(df_final_validate)\n",
    "df_final_validate = mapper.transform(df_final_validate)\n",
    "df_final_validate=add_polynomialfeatures(df_final_validate)\n",
    "df_final_validate.head()"
   ]
  },
  {
   "cell_type": "code",
   "execution_count": null,
   "metadata": {},
   "outputs": [],
   "source": []
  },
  {
   "cell_type": "code",
   "execution_count": 68,
   "metadata": {},
   "outputs": [],
   "source": [
    "#df_final_validate.loc[:,kbest.get_support()].describe().T"
   ]
  },
  {
   "cell_type": "code",
   "execution_count": 69,
   "metadata": {},
   "outputs": [
    {
     "data": {
      "text/plain": [
       "array([11.68802237, 12.0340118 , 12.258475  , 11.55948466, 12.00870239,\n",
       "       11.46135802, 11.63518233, 11.98529285, 12.11745434, 12.00769087])"
      ]
     },
     "execution_count": 69,
     "metadata": {},
     "output_type": "execute_result"
    }
   ],
   "source": [
    "final_validate_pred = model.predict(df_final_validate.loc[:,selected_features])\n",
    "final_validate_pred[0:10]"
   ]
  },
  {
   "cell_type": "markdown",
   "metadata": {},
   "source": [
    "add our sale price predictions to the df_final_preds dataframe and then save it as a csv for export"
   ]
  },
  {
   "cell_type": "code",
   "execution_count": 70,
   "metadata": {},
   "outputs": [],
   "source": [
    "if do_logtransform_price:\n",
    "    df_final_preds['SalePrice'] = round(np.exp(pd.Series(final_validate_pred))-1,2)\n",
    "else:\n",
    "    df_final_preds['SalePrice'] = pd.Series(final_validate_pred)\n",
    "df_final_preds.to_csv(\"ag_preliminary.csv\", index=False)"
   ]
  },
  {
   "cell_type": "code",
   "execution_count": 71,
   "metadata": {},
   "outputs": [
    {
     "data": {
      "text/html": [
       "<div>\n",
       "<style scoped>\n",
       "    .dataframe tbody tr th:only-of-type {\n",
       "        vertical-align: middle;\n",
       "    }\n",
       "\n",
       "    .dataframe tbody tr th {\n",
       "        vertical-align: top;\n",
       "    }\n",
       "\n",
       "    .dataframe thead th {\n",
       "        text-align: right;\n",
       "    }\n",
       "</style>\n",
       "<table border=\"1\" class=\"dataframe\">\n",
       "  <thead>\n",
       "    <tr style=\"text-align: right;\">\n",
       "      <th></th>\n",
       "      <th>Id</th>\n",
       "      <th>SalePrice</th>\n",
       "    </tr>\n",
       "  </thead>\n",
       "  <tbody>\n",
       "    <tr>\n",
       "      <th>0</th>\n",
       "      <td>2658</td>\n",
       "      <td>119135.17</td>\n",
       "    </tr>\n",
       "    <tr>\n",
       "      <th>1</th>\n",
       "      <td>2718</td>\n",
       "      <td>168384.59</td>\n",
       "    </tr>\n",
       "    <tr>\n",
       "      <th>2</th>\n",
       "      <td>2414</td>\n",
       "      <td>210758.93</td>\n",
       "    </tr>\n",
       "    <tr>\n",
       "      <th>3</th>\n",
       "      <td>1989</td>\n",
       "      <td>104765.01</td>\n",
       "    </tr>\n",
       "    <tr>\n",
       "      <th>4</th>\n",
       "      <td>625</td>\n",
       "      <td>164176.33</td>\n",
       "    </tr>\n",
       "  </tbody>\n",
       "</table>\n",
       "</div>"
      ],
      "text/plain": [
       "     Id  SalePrice\n",
       "0  2658  119135.17\n",
       "1  2718  168384.59\n",
       "2  2414  210758.93\n",
       "3  1989  104765.01\n",
       "4   625  164176.33"
      ]
     },
     "execution_count": 71,
     "metadata": {},
     "output_type": "execute_result"
    }
   ],
   "source": [
    "df_final_preds.head()"
   ]
  },
  {
   "cell_type": "markdown",
   "metadata": {},
   "source": [
    "## Actions Taken\n",
    "* model that uses all features does better than our baseline simple model\n",
    "* our simple baseline model used Overal Quality rating to predict house prices and acheived an R2 score of .64 (64% of the variability in pirces can be explained by that feature alone)\n",
    "* next model used LinearRegression on basically all the features in the data set with no selection or engineering -- did ok\n",
    "* next added feature selection to whittle down number of features (generally KBest was the best feature selection, although Lasso often worked well too.  Generally, it helped to remove about half the features)\n",
    "* Next removed two outliers from the training dataframe (these were large houses that sold for relatively cheap)\n",
    "* changed from treating ranked features (i.e. po, fair, good, excellent condition) to numeric rankings\n",
    "* Became worried that most importand predictors (such as overall quality and square footage, both of which have a very high correlation with sale price were becoming lost in the noise of all the features.  So added Polynomial features on the top correlated features (tried 2nd and 3rd degree - 2nd had better results)\n",
    "* noticed on residual plot that the model was consistently poor at predicting the higher priced houses.  It showed signs of heteroscedasticity, with bigger errors for higher house prices.  So tried adding a log transform on house price to counteract this -- it did help\n",
    "* Tried KNeighborsRegression in case it was better able to handle the right-skew of sale price, but it performed somewhat worse\n",
    "* returned to LinearREgression and played with removing some additional features\n",
    "\n"
   ]
  },
  {
   "cell_type": "markdown",
   "metadata": {},
   "source": [
    "## Final Model\n",
    "\n",
    "* finally settled on using model that used:\n",
    "    * KBest to pick the top 125 columns \n",
    "    * LInear Regression\n",
    "    * reduced basic features\n",
    "    * polynomial features on top 10 numeric columns correlated with sale price\n",
    "    * log transform of house price"
   ]
  },
  {
   "cell_type": "code",
   "execution_count": null,
   "metadata": {},
   "outputs": [],
   "source": []
  }
 ],
 "metadata": {
  "kernelspec": {
   "display_name": "Python 3",
   "language": "python",
   "name": "python3"
  },
  "language_info": {
   "codemirror_mode": {
    "name": "ipython",
    "version": 3
   },
   "file_extension": ".py",
   "mimetype": "text/x-python",
   "name": "python",
   "nbconvert_exporter": "python",
   "pygments_lexer": "ipython3",
   "version": "3.7.0"
  }
 },
 "nbformat": 4,
 "nbformat_minor": 2
}
